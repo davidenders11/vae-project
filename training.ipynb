{
 "cells": [
  {
   "cell_type": "code",
   "execution_count": 1,
   "metadata": {},
   "outputs": [],
   "source": [
    "import torch\n",
    "import torch.nn as nn\n",
    "import torch.nn.functional as F\n",
    "from torch import optim\n",
    "import os\n",
    "import matplotlib.image as img\n",
    "import tqdm\n",
    "from vae import Basic_VAE\n",
    "from encoder import Encoder"
   ]
  },
  {
   "cell_type": "markdown",
   "metadata": {},
   "source": [
    "#### Create Dataset\n"
   ]
  },
  {
   "cell_type": "code",
   "execution_count": 2,
   "metadata": {},
   "outputs": [
    {
     "name": "stdout",
     "output_type": "stream",
     "text": [
      "torch.Size([1000, 3, 64, 64])\n"
     ]
    }
   ],
   "source": [
    "cats = []\n",
    "directory = \"data/cats\"\n",
    "count = 0\n",
    "for catpic in os.listdir(directory):\n",
    "    if count < 1000:\n",
    "        # read from image and convert to tensor\n",
    "        im = torch.tensor(img.imread(os.path.join(directory, catpic))).float()\n",
    "        # permute to (channels, height, width) for conv2d layer\n",
    "        im = torch.permute(im, (2, 0, 1))\n",
    "        # normalize to range between -1 and 1\n",
    "        im = im / 128 - 1\n",
    "        cats.append(im)\n",
    "        count+=1\n",
    "    else:\n",
    "        break\n",
    "cats = torch.stack(cats)\n",
    "print(cats.shape)"
   ]
  },
  {
   "cell_type": "markdown",
   "metadata": {},
   "source": [
    "#### Test/Training/Validation Split\n"
   ]
  },
  {
   "cell_type": "code",
   "execution_count": 3,
   "metadata": {},
   "outputs": [
    {
     "name": "stdout",
     "output_type": "stream",
     "text": [
      "torch.Size([600, 3, 64, 64])\n",
      "torch.Size([151, 3, 64, 64])\n",
      "torch.Size([249, 3, 64, 64])\n"
     ]
    }
   ],
   "source": [
    "# Split the data into what we use for testing and not testing\n",
    "traing_test_split = 0.75\n",
    "training_test_cutoff = int(cats.shape[0] * traing_test_split + 1)\n",
    "random_perm = torch.randperm(cats.shape[0])\n",
    "not_test_tensor = cats[:training_test_cutoff]\n",
    "testing_tensor = cats[training_test_cutoff:]\n",
    "# Split the data into what we use for training and cross validation\n",
    "training_cv_split = 0.8\n",
    "training_cv_cutoff = int(not_test_tensor.shape[0] * training_cv_split)\n",
    "training_tensor = not_test_tensor[:training_cv_cutoff]\n",
    "cv_tensor = not_test_tensor[training_cv_cutoff:]\n",
    "print(training_tensor.shape)\n",
    "print(cv_tensor.shape)\n",
    "print(testing_tensor.shape)"
   ]
  },
  {
   "cell_type": "markdown",
   "metadata": {},
   "source": [
    "#### Choose Hyperparameters and Build Model\n"
   ]
  },
  {
   "cell_type": "code",
   "execution_count": 4,
   "metadata": {},
   "outputs": [
    {
     "name": "stdout",
     "output_type": "stream",
     "text": [
      "[128, 64, 32, 16]\n"
     ]
    }
   ],
   "source": [
    "from vae import Basic_VAE\n",
    "from encoder import Encoder\n",
    "hidden_dims = [16, 32, 64, 128]\n",
    "latent_dim = 64\n",
    "in_dim = 3\n",
    "model = Basic_VAE(in_dim, hidden_dims, latent_dim)\n",
    "encoder = Encoder(in_dim, hidden_dims, latent_dim)"
   ]
  },
  {
   "cell_type": "code",
   "execution_count": 5,
   "metadata": {},
   "outputs": [
    {
     "name": "stdout",
     "output_type": "stream",
     "text": [
      "encoded.shape: torch.Size([600, 128, 3, 3])\n",
      "encoded.shape after flatten: torch.Size([600, 1152])\n"
     ]
    },
    {
     "data": {
      "text/plain": [
       "(tensor([[-1.2788e-01,  3.0896e-01, -9.9229e-02,  ...,  4.6898e-01,\n",
       "           3.9784e-04, -1.1673e-01],\n",
       "         [-1.4930e-01,  7.1223e-01, -2.2759e-01,  ..., -6.2941e-03,\n",
       "          -6.0940e-02, -2.9898e-01],\n",
       "         [-3.9452e-01,  4.5149e-02, -3.1154e-02,  ...,  9.3408e-01,\n",
       "           4.0722e-01,  8.8972e-01],\n",
       "         ...,\n",
       "         [ 2.1063e-02,  1.0916e-01, -2.0865e-01,  ...,  4.0393e-01,\n",
       "           3.8704e-01,  1.6069e-01],\n",
       "         [ 1.6254e-01,  3.4640e-01,  2.8482e-03,  ...,  8.3765e-02,\n",
       "           4.7057e-01,  4.0400e-01],\n",
       "         [-3.2551e-01,  5.2595e-02, -1.6702e-01,  ..., -6.3182e-02,\n",
       "          -7.7393e-02,  5.2902e-01]], grad_fn=<AddmmBackward0>),\n",
       " tensor([[-0.0331, -0.1212,  0.6238,  ..., -0.4601, -0.0491, -0.0831],\n",
       "         [-0.3641, -0.2528,  0.0996,  ..., -0.7813,  0.1304, -0.4069],\n",
       "         [ 0.0641, -0.6217, -0.2455,  ...,  0.0525,  0.0592, -0.9320],\n",
       "         ...,\n",
       "         [-0.3655,  0.0939,  0.0384,  ..., -0.2729,  0.1941, -0.2859],\n",
       "         [-0.5290,  0.1035,  0.4753,  ..., -0.3542, -0.4514, -0.2793],\n",
       "         [-0.3210, -0.0145,  0.1918,  ...,  0.4742, -0.2870, -0.5048]],\n",
       "        grad_fn=<AddmmBackward0>))"
      ]
     },
     "execution_count": 5,
     "metadata": {},
     "output_type": "execute_result"
    }
   ],
   "source": [
    "# Testing the model\n",
    "# model.forward(training_tensor)\n",
    "encoder.forward(training_tensor)"
   ]
  },
  {
   "cell_type": "markdown",
   "metadata": {},
   "source": [
    "#### Implement Loss Function"
   ]
  },
  {
   "cell_type": "code",
   "execution_count": null,
   "metadata": {},
   "outputs": [],
   "source": [
    "def loss_function(self, reconstructed_img, input_img, mu, log_var, kld_weight=2):\n",
    "    img_loss = F.mse_loss(reconstructed_img, input_img)\n",
    "    # article on calculating kl divergence between 2 gaussians:\n",
    "    # https://medium.com/@outerrencedl/variational-autoencoder-and-a-bit-kl-divergence-with-pytorch-ce04fd55d0d7\n",
    "    kld_loss = torch.mean(\n",
    "        torch.sum(-log_var + (log_var.exp() ** 2 + mu**2) / 2 - 1 / 2)\n",
    "    )\n",
    "    kld_loss *= kld_weight\n",
    "\n",
    "    return img_loss + kld_loss"
   ]
  },
  {
   "cell_type": "markdown",
   "metadata": {},
   "source": [
    "#### Implement Gradient Descent\n"
   ]
  },
  {
   "cell_type": "code",
   "execution_count": null,
   "metadata": {},
   "outputs": [],
   "source": [
    "def gradient_descent(model, loss_func, x, y, xvalid, yvalid, lr=0.1, steps=5000):\n",
    "    optimizer = optim.AdamW(model.parameters(), lr)\n",
    "\n",
    "    losses = []\n",
    "    valid_losses = []\n",
    "    for _ in tqdm.trange(steps):\n",
    "        model.train()\n",
    "        loss = loss_func(model(x), y)\n",
    "        loss.backward()\n",
    "        optimizer.step()\n",
    "        optimizer.zero_grad()\n",
    "\n",
    "        model.eval()\n",
    "        valid_loss = loss_func(model(xvalid), yvalid)\n",
    "        losses.append(loss.detach().numpy())\n",
    "        valid_losses.append(valid_loss.detach().numpy())\n",
    "\n",
    "    print(f\"Final training loss: {losses[-1]}\")\n",
    "\n",
    "    return losses, valid_losses"
   ]
  }
 ],
 "metadata": {
  "kernelspec": {
   "display_name": "NN",
   "language": "python",
   "name": "python3"
  },
  "language_info": {
   "codemirror_mode": {
    "name": "ipython",
    "version": 3
   },
   "file_extension": ".py",
   "mimetype": "text/x-python",
   "name": "python",
   "nbconvert_exporter": "python",
   "pygments_lexer": "ipython3",
   "version": "3.11.4"
  }
 },
 "nbformat": 4,
 "nbformat_minor": 2
}
