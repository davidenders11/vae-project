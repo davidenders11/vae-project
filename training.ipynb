{
 "cells": [
  {
   "cell_type": "code",
   "execution_count": 1,
   "metadata": {},
   "outputs": [],
   "source": [
    "import torch\n",
    "import torch.nn.functional as F\n",
    "from torch import optim\n",
    "import os\n",
    "import matplotlib.image as img\n",
    "import tqdm\n",
    "import matplotlib.pyplot as plt \n",
    "from torch.utils.data import DataLoader, TensorDataset"
   ]
  },
  {
   "cell_type": "markdown",
   "metadata": {},
   "source": [
    "#### Create Dataset\n"
   ]
  },
  {
   "cell_type": "code",
   "execution_count": 2,
   "metadata": {},
   "outputs": [
    {
     "name": "stdout",
     "output_type": "stream",
     "text": [
      "torch.Size([1000, 3, 64, 64])\n"
     ]
    }
   ],
   "source": [
    "cats = []\n",
    "directory = \"data/cats\"\n",
    "count = 0\n",
    "\n",
    "for catpic in os.listdir(directory):\n",
    "    if count < 1000:\n",
    "        # read from image and convert to tensor\n",
    "        im = torch.tensor(img.imread(os.path.join(directory, catpic))).float()\n",
    "        # permute to (channels, height, width) for conv2d layer\n",
    "        im = torch.permute(im, (2, 0, 1))\n",
    "        # normalize to range between -1 and 1\n",
    "        im = im / 128 - 1\n",
    "        cats.append(im)\n",
    "        count += 1\n",
    "    else:\n",
    "        break\n",
    "cats = torch.stack(cats)\n",
    "print(cats.shape)"
   ]
  },
  {
   "cell_type": "markdown",
   "metadata": {},
   "source": [
    "#### Test/Training/Validation Split\n"
   ]
  },
  {
   "cell_type": "code",
   "execution_count": 3,
   "metadata": {},
   "outputs": [
    {
     "name": "stdout",
     "output_type": "stream",
     "text": [
      "torch.Size([600, 3, 64, 64])\n",
      "torch.Size([151, 3, 64, 64])\n",
      "torch.Size([249, 3, 64, 64])\n"
     ]
    }
   ],
   "source": [
    "# Split the data into what we use for testing and not testing\n",
    "training_test_split = 0.75\n",
    "training_test_cutoff = int(cats.shape[0] * training_test_split + 1)\n",
    "random_perm = torch.randperm(cats.shape[0])\n",
    "not_test_tensor = cats[:training_test_cutoff]\n",
    "testing_tensor = cats[training_test_cutoff:]\n",
    "# Split the data into what we use for training and cross validation\n",
    "training_cv_split = 0.8\n",
    "training_cv_cutoff = int(not_test_tensor.shape[0] * training_cv_split)\n",
    "training_tensor = not_test_tensor[:training_cv_cutoff]\n",
    "cv_tensor = not_test_tensor[training_cv_cutoff:]\n",
    "print(training_tensor.shape)\n",
    "print(cv_tensor.shape)\n",
    "print(testing_tensor.shape)"
   ]
  },
  {
   "cell_type": "markdown",
   "metadata": {},
   "source": [
    "#### Choose Hyperparameters and Build Model\n"
   ]
  },
  {
   "cell_type": "code",
   "execution_count": 4,
   "metadata": {},
   "outputs": [],
   "source": [
    "from vae import Basic_VAE\n",
    "\n",
    "hidden_dims = [16, 32, 64, 128]\n",
    "latent_dim = 64\n",
    "in_dim = 3\n",
    "model = Basic_VAE(in_dim, hidden_dims, latent_dim)\n",
    "# encoder = Encoder(in_dim, hidden_dims, latent_dim) for testing\n",
    "# decoder = Decoder(latent_dim, hidden_dims) for testing"
   ]
  },
  {
   "cell_type": "code",
   "execution_count": 5,
   "metadata": {},
   "outputs": [
    {
     "data": {
      "text/plain": [
       "[tensor([[[[-1.1441e-01,  1.8450e-01, -1.0022e-01,  ..., -1.0335e-01,\n",
       "            -1.9757e-01, -8.4161e-02],\n",
       "           [ 2.1961e-01,  3.1315e-01, -3.7766e-01,  ..., -1.8384e-01,\n",
       "            -3.9726e-01, -6.9244e-02],\n",
       "           [ 2.1431e-01, -1.5669e-01,  2.6540e-01,  ...,  7.2550e-02,\n",
       "            -3.6948e-01,  1.2676e-01],\n",
       "           ...,\n",
       "           [-2.1865e-01, -7.0959e-02, -9.3127e-02,  ...,  1.1534e-01,\n",
       "             1.1522e-01, -1.9321e-02],\n",
       "           [-2.5447e-02, -1.2560e-01, -2.8188e-01,  ..., -8.1466e-02,\n",
       "            -3.2245e-01, -4.8180e-02],\n",
       "           [-1.0009e-01,  2.1743e-02,  1.3533e-02,  ..., -9.1875e-02,\n",
       "             1.6719e-01, -1.3049e-02]],\n",
       " \n",
       "          [[ 1.3386e-01, -6.3914e-02, -1.2176e-01,  ..., -2.0513e-01,\n",
       "            -2.7175e-02, -1.4458e-01],\n",
       "           [ 1.5360e-01,  7.8845e-02, -3.0234e-01,  ..., -1.4296e-02,\n",
       "            -1.0424e-01, -1.4813e-01],\n",
       "           [ 3.0746e-01,  1.9004e-01, -7.4113e-02,  ...,  7.1625e-02,\n",
       "             1.4599e-01, -1.0515e-01],\n",
       "           ...,\n",
       "           [ 2.1241e-01, -1.4310e-01,  7.8478e-02,  ..., -1.2660e-01,\n",
       "             1.6318e-01,  4.5653e-02],\n",
       "           [ 9.5507e-02,  2.9700e-02,  1.1526e-01,  ...,  1.3683e-03,\n",
       "             3.1459e-03, -1.6916e-01],\n",
       "           [ 6.4213e-03, -9.0436e-02,  1.8719e-01,  ...,  8.8994e-02,\n",
       "            -1.0592e-01, -2.0969e-01]],\n",
       " \n",
       "          [[ 2.7992e-01,  4.6762e-01,  1.7343e-01,  ...,  3.8569e-02,\n",
       "            -1.3959e-02, -6.2076e-02],\n",
       "           [ 2.3439e-01,  3.3312e-01,  6.0309e-01,  ...,  2.4722e-01,\n",
       "             5.9571e-02,  7.0150e-02],\n",
       "           [ 3.9233e-01,  6.5307e-02,  7.5830e-01,  ...,  7.1318e-02,\n",
       "             1.7728e-01,  2.1955e-01],\n",
       "           ...,\n",
       "           [ 1.5588e-01,  5.3833e-02,  1.0214e-02,  ...,  2.3091e-01,\n",
       "             2.0983e-01,  1.8826e-01],\n",
       "           [-6.8798e-02, -3.9788e-02,  3.2019e-01,  ...,  4.4201e-02,\n",
       "             1.9171e-01,  1.1600e-01],\n",
       "           [ 9.9474e-02, -3.7764e-02, -5.6422e-02,  ..., -4.9616e-03,\n",
       "             2.2409e-02,  1.6132e-02]]],\n",
       " \n",
       " \n",
       "         [[[-1.0728e-02,  1.9423e-01,  1.5387e-01,  ..., -1.9059e-01,\n",
       "            -6.5721e-02, -6.7332e-02],\n",
       "           [-7.3685e-03, -2.2661e-01,  2.8264e-01,  ..., -1.5638e-01,\n",
       "            -6.6345e-02, -1.3175e-01],\n",
       "           [ 8.0027e-02, -2.8446e-01,  5.5066e-02,  ...,  6.0021e-02,\n",
       "            -6.4262e-02,  5.8843e-02],\n",
       "           ...,\n",
       "           [-1.5088e-01, -6.9003e-02, -2.5366e-02,  ..., -1.7051e-02,\n",
       "            -1.7395e-01, -1.3466e-01],\n",
       "           [-1.1053e-01,  3.6522e-02,  1.6149e-02,  ..., -1.0073e-01,\n",
       "            -7.2235e-02, -2.5410e-02],\n",
       "           [-6.3773e-02,  1.5840e-01, -2.0921e-01,  ..., -4.9773e-02,\n",
       "            -1.0897e-01, -4.5630e-02]],\n",
       " \n",
       "          [[-1.8221e-02, -2.0475e-01,  1.7587e-01,  ..., -9.8032e-02,\n",
       "            -1.4711e-03, -9.2560e-02],\n",
       "           [-1.2583e-01, -1.3192e-01,  8.6265e-02,  ...,  1.4677e-01,\n",
       "            -2.7589e-02, -1.2983e-01],\n",
       "           [-1.8629e-01,  1.6005e-01, -2.0791e-01,  ..., -6.7239e-02,\n",
       "            -1.9487e-01,  2.0036e-02],\n",
       "           ...,\n",
       "           [-2.0124e-01,  4.2406e-03,  8.8757e-02,  ..., -1.3259e-01,\n",
       "             6.9189e-02, -1.2288e-01],\n",
       "           [ 2.2765e-02, -1.5229e-01,  1.3600e-01,  ..., -9.3709e-02,\n",
       "            -4.4483e-02, -1.5884e-01],\n",
       "           [-3.2113e-02, -2.4525e-01,  2.9280e-01,  ..., -3.4790e-02,\n",
       "            -2.9875e-02, -1.1228e-01]],\n",
       " \n",
       "          [[ 1.4319e-01,  1.8683e-01,  1.0049e-02,  ...,  6.3935e-02,\n",
       "             1.9369e-03, -4.7058e-02],\n",
       "           [ 7.4131e-02,  1.3885e-01,  6.2633e-01,  ...,  5.8203e-02,\n",
       "            -4.4071e-03,  3.9109e-02],\n",
       "           [ 9.4051e-02,  1.4437e-01, -1.5350e-01,  ...,  1.0936e-01,\n",
       "             7.7907e-02,  1.3223e-01],\n",
       "           ...,\n",
       "           [ 2.3636e-01,  2.4270e-01,  4.9983e-02,  ...,  1.4354e-01,\n",
       "             3.0508e-02, -3.1348e-02],\n",
       "           [ 1.5157e-01,  2.1894e-01, -4.1291e-02,  ..., -7.2378e-02,\n",
       "            -5.5100e-02,  3.8364e-02],\n",
       "           [-2.4229e-01,  4.6693e-02,  2.1789e-01,  ..., -1.4841e-02,\n",
       "             4.2924e-02, -3.4897e-02]]],\n",
       " \n",
       " \n",
       "         [[[-1.2799e-01,  8.5887e-02, -4.2568e-01,  ..., -2.7548e-02,\n",
       "             2.3745e-02, -5.6762e-03],\n",
       "           [-5.5126e-01,  4.4215e-01, -3.3652e-01,  ...,  1.9245e-01,\n",
       "            -2.1046e-01, -1.4242e-01],\n",
       "           [ 1.0148e-01, -3.7974e-01, -6.6031e-01,  ..., -2.2863e-01,\n",
       "             3.7909e-01,  1.3654e-02],\n",
       "           ...,\n",
       "           [-3.3889e-02, -8.3393e-02, -2.0752e-01,  ...,  4.4371e-02,\n",
       "            -2.7874e-03, -6.7964e-02],\n",
       "           [-8.4262e-02,  1.7792e-01, -2.4123e-02,  ...,  3.6138e-02,\n",
       "             6.4786e-02, -7.2030e-02],\n",
       "           [ 9.2819e-02,  2.6774e-02,  2.0170e-01,  ...,  6.9989e-02,\n",
       "            -9.7332e-03,  8.1959e-03]],\n",
       " \n",
       "          [[-1.0580e-01, -5.2933e-02, -2.1308e-01,  ..., -2.2163e-02,\n",
       "            -2.4337e-02, -9.6450e-02],\n",
       "           [ 1.2814e-01,  3.5782e-01,  1.9145e-01,  ..., -2.9242e-02,\n",
       "            -2.6039e-01, -9.5395e-02],\n",
       "           [-8.0523e-02,  1.0127e-01,  3.1377e-02,  ..., -4.2084e-01,\n",
       "            -1.5777e-02, -2.2210e-02],\n",
       "           ...,\n",
       "           [ 2.3819e-02, -5.0161e-02,  4.5065e-01,  ..., -1.4612e-01,\n",
       "            -8.9541e-02, -2.1859e-01],\n",
       "           [ 3.5475e-02, -2.7253e-01, -3.7896e-02,  ..., -8.6111e-02,\n",
       "             9.7065e-02, -6.3343e-02],\n",
       "           [ 4.7800e-02, -4.9814e-02,  1.5634e-01,  ...,  4.3050e-02,\n",
       "            -1.9904e-02, -5.9103e-02]],\n",
       " \n",
       "          [[ 1.1781e-01,  5.0955e-01,  1.9419e-01,  ...,  9.0148e-02,\n",
       "             2.8953e-02,  2.5400e-02],\n",
       "           [-1.0780e-01,  4.2098e-01,  5.4437e-01,  ...,  3.1613e-01,\n",
       "             5.0072e-01,  7.9165e-02],\n",
       "           [ 3.0044e-01,  3.8362e-01,  7.9019e-02,  ...,  5.6557e-01,\n",
       "             4.0106e-01,  5.3322e-02],\n",
       "           ...,\n",
       "           [ 1.1470e-01,  2.1073e-01,  1.3568e-01,  ...,  2.1014e-01,\n",
       "             1.0994e-01,  5.6182e-02],\n",
       "           [ 6.4739e-02,  2.3601e-01,  5.4854e-02,  ...,  2.2240e-01,\n",
       "             1.8554e-01, -2.2716e-02],\n",
       "           [-1.4211e-01,  6.4665e-02,  5.6798e-01,  ...,  1.7201e-01,\n",
       "             7.8273e-02,  1.2714e-02]]],\n",
       " \n",
       " \n",
       "         ...,\n",
       " \n",
       " \n",
       "         [[[-5.6735e-02, -1.6503e-01,  6.2397e-02,  ..., -7.7143e-02,\n",
       "            -6.0794e-02, -2.7442e-01],\n",
       "           [ 4.7559e-01, -4.9876e-02, -7.4489e-02,  ..., -1.3774e-01,\n",
       "             3.0433e-01, -9.1767e-02],\n",
       "           [-1.0532e-01,  1.7451e-01,  7.3856e-01,  ..., -2.2180e-02,\n",
       "             1.1529e-01, -2.6557e-01],\n",
       "           ...,\n",
       "           [-8.5129e-02, -1.5940e-02,  2.8213e-03,  ..., -6.7114e-02,\n",
       "            -7.6456e-02, -1.4589e-01],\n",
       "           [-1.3641e-02, -4.3166e-02, -1.3091e-01,  ..., -1.1669e-01,\n",
       "             1.5186e-01, -9.4922e-02],\n",
       "           [-2.8825e-02, -3.4381e-02, -1.2084e-01,  ..., -8.0438e-03,\n",
       "            -6.6011e-03, -6.8252e-02]],\n",
       " \n",
       "          [[ 2.0061e-01, -3.5688e-02,  1.4606e-01,  ...,  9.2759e-02,\n",
       "             1.1789e-01,  6.6876e-03],\n",
       "           [ 1.8191e-01,  2.5659e-02, -7.8072e-02,  ..., -4.7097e-03,\n",
       "            -3.5514e-01,  5.7340e-03],\n",
       "           [ 3.7869e-01, -1.7874e-01,  3.9557e-01,  ...,  1.6161e-01,\n",
       "            -1.0595e-01, -6.7184e-02],\n",
       "           ...,\n",
       "           [-4.5220e-02,  2.5601e-02,  3.6241e-02,  ...,  7.3355e-02,\n",
       "            -4.7339e-02, -2.1781e-01],\n",
       "           [ 9.0771e-02, -5.3980e-03, -2.9874e-01,  ...,  1.0134e-01,\n",
       "             5.4622e-02, -1.0697e-01],\n",
       "           [ 3.2770e-02, -8.0531e-02, -1.0803e-01,  ..., -1.6387e-03,\n",
       "            -1.5996e-01, -1.5398e-03]],\n",
       " \n",
       "          [[ 2.7426e-01,  6.1188e-02,  2.3388e-01,  ...,  1.9422e-01,\n",
       "             6.6345e-02, -4.0578e-02],\n",
       "           [ 4.2662e-01,  3.4852e-01,  4.3510e-01,  ...,  3.8299e-01,\n",
       "             3.0833e-01,  7.6097e-02],\n",
       "           [ 3.9890e-01,  3.5453e-01,  6.8628e-01,  ...,  3.8016e-01,\n",
       "             3.5141e-01, -1.3985e-01],\n",
       "           ...,\n",
       "           [ 1.3305e-02,  1.2468e-01,  5.5809e-02,  ...,  5.8142e-02,\n",
       "             1.5483e-01,  7.8282e-02],\n",
       "           [ 5.3901e-02,  1.4040e-01,  1.2784e-01,  ...,  2.0761e-01,\n",
       "             7.1855e-02,  1.6724e-02],\n",
       "           [ 7.7759e-02, -3.2746e-02, -1.2607e-01,  ...,  1.5533e-01,\n",
       "             2.5348e-01,  4.0647e-02]]],\n",
       " \n",
       " \n",
       "         [[[-2.5558e-01, -1.6272e-01,  5.5644e-02,  ...,  2.1423e-03,\n",
       "            -3.2278e-01, -1.1252e-01],\n",
       "           [ 4.0085e-02, -2.3089e-01, -1.3968e-01,  ...,  1.2535e-01,\n",
       "            -5.9246e-02,  5.4724e-02],\n",
       "           [-6.3586e-02,  2.1058e-02,  2.8269e-02,  ..., -1.5677e-01,\n",
       "            -2.0513e-01, -1.5660e-01],\n",
       "           ...,\n",
       "           [-1.9147e-01,  1.7294e-01, -8.2518e-03,  ..., -6.0135e-02,\n",
       "            -4.0143e-02, -1.4824e-01],\n",
       "           [-1.4080e-01, -1.0426e-01,  5.3052e-02,  ...,  1.5970e-01,\n",
       "             2.4470e-02, -1.9107e-01],\n",
       "           [-1.8095e-01,  2.9279e-02,  1.5154e-01,  ..., -3.8616e-02,\n",
       "            -4.4671e-02, -1.2334e-02]],\n",
       " \n",
       "          [[-3.4855e-01, -1.3210e-01, -8.5323e-03,  ..., -8.4874e-02,\n",
       "            -1.7913e-01, -6.3500e-02],\n",
       "           [-3.4850e-01, -4.7970e-02,  1.7798e-01,  ...,  6.1462e-03,\n",
       "             2.0173e-01,  4.5742e-03],\n",
       "           [-1.9171e-01, -3.3623e-01, -1.8291e-01,  ...,  8.4438e-04,\n",
       "             1.0780e-03,  1.7737e-02],\n",
       "           ...,\n",
       "           [ 1.5130e-01,  5.3524e-02,  2.5688e-01,  ...,  1.7010e-02,\n",
       "            -2.5134e-01, -1.2568e-01],\n",
       "           [-6.4404e-02, -1.8509e-01,  2.1729e-01,  ..., -2.6622e-01,\n",
       "            -7.7102e-02,  1.7134e-02],\n",
       "           [ 1.2728e-01,  7.6504e-02, -2.1310e-01,  ...,  7.0386e-03,\n",
       "             1.0644e-02, -1.1905e-02]],\n",
       " \n",
       "          [[-2.3297e-01,  6.4774e-03,  8.4208e-02,  ...,  8.7979e-02,\n",
       "            -1.7908e-01, -2.5634e-02],\n",
       "           [ 3.3202e-01,  1.7959e-01, -6.0454e-03,  ...,  1.9814e-01,\n",
       "             4.7361e-02,  6.7719e-02],\n",
       "           [ 3.6254e-01,  8.1395e-01, -4.8720e-02,  ...,  2.9484e-01,\n",
       "            -1.0558e-01,  2.5879e-02],\n",
       "           ...,\n",
       "           [-3.1975e-02,  5.6585e-02, -3.0927e-01,  ...,  1.4229e-01,\n",
       "            -7.3001e-02, -9.9499e-02],\n",
       "           [-2.5489e-02,  3.2854e-01,  3.8988e-01,  ...,  1.2362e-01,\n",
       "             4.6619e-02, -3.7857e-02],\n",
       "           [-1.4570e-01,  2.0202e-01,  3.9928e-01,  ...,  1.3679e-01,\n",
       "            -1.9351e-02,  3.8273e-02]]],\n",
       " \n",
       " \n",
       "         [[[-1.2354e-02, -2.5246e-01, -3.7026e-01,  ..., -2.4575e-01,\n",
       "            -2.1064e-01, -4.9072e-02],\n",
       "           [-1.3673e-01,  1.7944e-04, -5.1774e-02,  ..., -1.3422e-02,\n",
       "            -1.1008e-01, -2.0561e-02],\n",
       "           [ 1.2698e-01, -4.2928e-01, -5.0401e-01,  ..., -2.8914e-01,\n",
       "            -2.1850e-01, -2.6148e-01],\n",
       "           ...,\n",
       "           [ 3.4706e-02,  4.9184e-02,  8.4216e-02,  ..., -9.5540e-02,\n",
       "            -3.6145e-02, -1.6329e-01],\n",
       "           [-1.8121e-01, -9.8219e-02,  2.6501e-01,  ..., -5.5448e-02,\n",
       "            -1.7395e-01, -1.2690e-01],\n",
       "           [-1.0739e-02,  8.2359e-02,  1.6918e-01,  ...,  3.7259e-02,\n",
       "            -2.6629e-02, -2.1177e-02]],\n",
       " \n",
       "          [[-6.7965e-02, -2.1306e-01, -3.1872e-01,  ...,  4.1696e-02,\n",
       "            -6.8372e-02, -4.3148e-02],\n",
       "           [ 6.6916e-02,  1.5123e-03,  7.4476e-02,  ...,  6.3155e-02,\n",
       "             1.9528e-01, -6.1765e-03],\n",
       "           [-2.9165e-01,  9.2626e-02, -2.7175e-01,  ...,  1.4165e-01,\n",
       "            -1.2507e-01, -7.1737e-02],\n",
       "           ...,\n",
       "           [-1.5129e-01, -1.1899e-01, -3.3516e-02,  ..., -1.3144e-01,\n",
       "            -1.7356e-01, -8.2715e-02],\n",
       "           [-8.6169e-02, -1.0982e-01,  1.8598e-01,  ..., -1.2500e-02,\n",
       "            -4.5685e-02, -4.1060e-02],\n",
       "           [-2.5742e-02, -3.3095e-02,  5.4189e-02,  ...,  4.2883e-03,\n",
       "             2.2604e-02, -6.1522e-02]],\n",
       " \n",
       "          [[-8.0896e-02,  3.9671e-02,  5.1947e-02,  ...,  5.8276e-02,\n",
       "             1.0346e-01,  4.8452e-02],\n",
       "           [-2.3459e-02,  3.4890e-01,  3.6030e-01,  ...,  2.2850e-01,\n",
       "             5.9728e-02,  1.7427e-01],\n",
       "           [-6.1595e-02, -1.3606e-01, -1.4714e-01,  ..., -4.8196e-02,\n",
       "             1.7272e-01,  1.4142e-01],\n",
       "           ...,\n",
       "           [ 1.2882e-01,  1.4484e-01,  2.5811e-01,  ...,  1.6217e-01,\n",
       "            -7.6738e-02, -1.5530e-02],\n",
       "           [-8.3932e-02,  8.0571e-02,  2.1717e-01,  ...,  1.1567e-01,\n",
       "            -3.9551e-02, -1.0158e-01],\n",
       "           [-1.7229e-01,  6.1847e-02,  5.3401e-01,  ...,  9.6763e-02,\n",
       "             7.4836e-02, -1.3519e-02]]]], grad_fn=<TanhBackward0>),\n",
       " tensor([[ 0.3576, -0.4763,  0.4264,  ..., -0.2198,  0.4083, -0.0465],\n",
       "         [ 0.6733, -0.2042,  0.2952,  ...,  0.0718, -0.0927,  0.2016],\n",
       "         [ 0.4441, -0.2155,  0.3265,  ...,  0.6218,  0.3580,  0.6330],\n",
       "         ...,\n",
       "         [ 0.8425, -0.0469,  0.5718,  ..., -0.6025,  0.2207,  0.4692],\n",
       "         [ 0.7016,  0.4555, -0.3220,  ...,  0.3193,  0.1889, -0.4981],\n",
       "         [ 0.3752, -0.2132, -0.4772,  ..., -0.4561,  0.3744,  0.5030]],\n",
       "        grad_fn=<AddmmBackward0>),\n",
       " tensor([[ 0.2176, -0.2582, -0.2708,  ...,  0.2220,  0.1048,  0.1839],\n",
       "         [ 0.4021,  0.0279, -0.2877,  ..., -0.0868, -0.3043,  0.0413],\n",
       "         [ 0.9125, -0.2806, -0.3395,  ..., -0.8287,  0.1587,  1.0725],\n",
       "         ...,\n",
       "         [ 0.0450, -0.4739,  0.0305,  ...,  0.3907, -0.1844,  0.2850],\n",
       "         [ 0.2636, -0.3965, -0.7720,  ..., -0.5289,  0.1886,  0.1524],\n",
       "         [ 0.4195, -0.5580, -0.5592,  ..., -0.3900, -0.1030, -0.5139]],\n",
       "        grad_fn=<AddmmBackward0>)]"
      ]
     },
     "execution_count": 5,
     "metadata": {},
     "output_type": "execute_result"
    }
   ],
   "source": [
    "# # Testing the model\n",
    "model.forward(training_tensor)\n",
    "# # Code to test out the encoder & decoder\n",
    "# mu, log_var = encoder.forward(training_tensor)\n",
    "# print(\"mu: \", mu.shape)\n",
    "# print(\"log_var: \", log_var.shape)\n",
    "\n",
    "# reconstructed_img = decoder.forward(mu, log_var)"
   ]
  },
  {
   "cell_type": "markdown",
   "metadata": {},
   "source": [
    "#### Implement Loss Function\n"
   ]
  },
  {
   "cell_type": "code",
   "execution_count": 6,
   "metadata": {},
   "outputs": [],
   "source": [
    "def loss_function(reconstructed_img, input_img, mu, log_var, kld_weight=0.001):\n",
    "    # print(\"reconstructed_img: \", reconstructed_img.shape)\n",
    "    # print(\"input_img: \", input_img.shape)\n",
    "    img_loss = F.mse_loss(reconstructed_img, input_img)\n",
    "    # article on calculating kl divergence between 2 gaussians:\n",
    "    # https://medium.com/@outerrencedl/variational-autoencoder-and-a-bit-kl-divergence-with-pytorch-ce04fd55d0d7\n",
    "    kld_loss = torch.mean(\n",
    "        torch.sum(-log_var + (log_var.exp() ** 2 + mu**2) / 2 - 1 / 2)\n",
    "        \n",
    "    )\n",
    "    # kld_loss = torch.mean(-0.5 * torch.sum(1 + log_var - mu.pow(2) - log_var.exp()))\n",
    "    kld_loss *= kld_weight\n",
    "\n",
    "    return img_loss + kld_loss"
   ]
  },
  {
   "cell_type": "markdown",
   "metadata": {},
   "source": [
    "#### Implement Gradient Descent\n"
   ]
  },
  {
   "cell_type": "code",
   "execution_count": 7,
   "metadata": {},
   "outputs": [],
   "source": [
    "def gradient_descent(model, loss_func, x, y, xvalid, yvalid, lr=0.001, steps=100, batch_size=32):\n",
    "    # only really need x or y, they are the same thing\n",
    "    optimizer = optim.AdamW(model.parameters(), lr)\n",
    "\n",
    "    losses = []\n",
    "    valid_losses = []\n",
    "\n",
    "    train_dataset = TensorDataset(x, y)\n",
    "    train_batches = DataLoader(train_dataset, batch_size=batch_size, shuffle=True)\n",
    "\n",
    "    valid_dataset = TensorDataset(xvalid, yvalid)\n",
    "    valid_batches = DataLoader(valid_dataset, batch_size=batch_size, shuffle=False)\n",
    "\n",
    "    for _ in tqdm.trange(steps):\n",
    "        model.train()\n",
    "        total_loss = 0\n",
    "\n",
    "        for input_batch, label_batch in train_batches:\n",
    "            reconstructed_img, mu, log_var = model(input_batch)\n",
    "            # y is the original image I think? yeah\n",
    "            loss = loss_func(reconstructed_img, label_batch, mu, log_var)\n",
    "            loss.backward()\n",
    "            optimizer.step()\n",
    "            total_loss += loss.item()\n",
    "            optimizer.zero_grad()\n",
    "        mean_loss = total_loss/len(train_batches)\n",
    "        losses.append(mean_loss)\n",
    "\n",
    "        model.eval()\n",
    "        total_valid_loss = 0\n",
    "        for input_valid_batch, label_valid_batch in valid_batches:\n",
    "            reconstructed_img, mu, log_var = model(input_valid_batch)\n",
    "            valid_loss = loss_func(reconstructed_img, label_valid_batch, mu, log_var)\n",
    "            total_valid_loss += valid_loss.detach()\n",
    "        mean_valid_loss = total_valid_loss/len(valid_batches)\n",
    "        valid_losses.append(mean_valid_loss)\n",
    "\n",
    "    print(f\"Final training loss: {losses[-1]}\")\n",
    "    print(f\"Final validation loss: {valid_losses[-1]}\")\n",
    "\n",
    "    return losses, valid_losses"
   ]
  },
  {
   "cell_type": "code",
   "execution_count": 8,
   "metadata": {},
   "outputs": [
    {
     "name": "stderr",
     "output_type": "stream",
     "text": [
      "100%|██████████| 500/500 [09:19<00:00,  1.12s/it]"
     ]
    },
    {
     "name": "stdout",
     "output_type": "stream",
     "text": [
      "Final training loss: 0.22038093836683975\n",
      "Final validation loss: 0.19994470477104187\n"
     ]
    },
    {
     "name": "stderr",
     "output_type": "stream",
     "text": [
      "\n"
     ]
    }
   ],
   "source": [
    "losses, valid_losses = gradient_descent(\n",
    "    model, loss_function, training_tensor, training_tensor, cv_tensor, cv_tensor, steps=500, lr = 0.0001\n",
    ")"
   ]
  },
  {
   "cell_type": "code",
   "execution_count": 22,
   "metadata": {},
   "outputs": [],
   "source": [
    "torch.save(model.state_dict(), \"saved_model_1000img_300iter\")"
   ]
  },
  {
   "cell_type": "code",
   "execution_count": 24,
   "metadata": {},
   "outputs": [
    {
     "name": "stderr",
     "output_type": "stream",
     "text": [
      "Clipping input data to the valid range for imshow with RGB data ([0..1] for floats or [0..255] for integers).\n"
     ]
    },
    {
     "name": "stdout",
     "output_type": "stream",
     "text": [
      "torch.Size([1, 64])\n",
      "torch.Size([1, 3, 64, 64])\n"
     ]
    },
    {
     "data": {
      "text/plain": [
       "<matplotlib.image.AxesImage at 0x2046d43a5d0>"
      ]
     },
     "execution_count": 24,
     "metadata": {},
     "output_type": "execute_result"
    },
    {
     "data": {
      "image/png": "[encoded data removed]",
      "text/plain": [
       "<Figure size 640x480 with 1 Axes>"
      ]
     },
     "metadata": {},
     "output_type": "display_data"
    }
   ],
   "source": [
    "# after we've trained, we use the decoder to generate new images\n",
    "# we assume a normal distribution over our latent space\n",
    "# so we sample from that distribution and feed it into the decoder\n",
    "img = model.sample_img()\n",
    "print(img.shape)\n",
    "img = img.view(64, 64, 3)\n",
    "img = img.detach().numpy()\n",
    "plt.imshow(img)"
   ]
  },
  {
   "cell_type": "code",
   "execution_count": 11,
   "metadata": {},
   "outputs": [
    {
     "name": "stdout",
     "output_type": "stream",
     "text": [
      "torch.Size([1, 3, 64, 64])\n",
      "tensor([[[[206., 187., 206.,  ..., 116., 128.,  74.],\n",
      "          [ 89.,  98.,  59.,  ..., 126., 115., 128.],\n",
      "          [136., 104., 122.,  ..., 182., 184., 194.],\n",
      "          ...,\n",
      "          [144., 146.,  91.,  ..., 117., 207., 211.],\n",
      "          [212., 211., 215.,  ..., 124., 141., 144.],\n",
      "          [223., 203., 216.,  ..., 197., 200., 163.]],\n",
      "\n",
      "         [[175., 177.,  85.,  ..., 181., 202., 206.],\n",
      "          [207., 225., 229.,  ..., 140., 157., 160.],\n",
      "          [218., 198., 210.,  ..., 213., 216., 196.],\n",
      "          ...,\n",
      "          [193., 201., 211.,  ...,  64.,  66.,  66.],\n",
      "          [224., 210., 222.,  ..., 148., 158., 155.],\n",
      "          [165., 175., 180.,  ..., 210., 216., 224.]],\n",
      "\n",
      "         [[224., 229., 237.,  ..., 135., 140., 139.],\n",
      "          [218., 204., 216.,  ..., 163., 173., 151.],\n",
      "          [160., 170., 175.,  ..., 238., 197., 202.],\n",
      "          ...,\n",
      "          [222., 205., 216.,  ...,  91.,  99., 109.],\n",
      "          [112., 117., 123.,  ..., 183., 146., 168.],\n",
      "          [174., 176., 198.,  ..., 141., 160., 165.]]]])\n",
      "tensor([[[[1., 1., 1.,  ..., 1., 1., 1.],\n",
      "          [1., 1., 1.,  ..., 1., 1., 1.],\n",
      "          [1., 1., 1.,  ..., 1., 1., 1.],\n",
      "          ...,\n",
      "          [1., 1., 1.,  ..., 1., 1., 1.],\n",
      "          [1., 1., 1.,  ..., 1., 1., 1.],\n",
      "          [1., 1., 1.,  ..., 1., 1., 1.]],\n",
      "\n",
      "         [[1., 1., 1.,  ..., 1., 1., 1.],\n",
      "          [1., 1., 1.,  ..., 1., 1., 1.],\n",
      "          [1., 1., 1.,  ..., 1., 1., 1.],\n",
      "          ...,\n",
      "          [1., 1., 1.,  ..., 1., 1., 1.],\n",
      "          [1., 1., 1.,  ..., 1., 1., 1.],\n",
      "          [1., 1., 1.,  ..., 1., 1., 1.]],\n",
      "\n",
      "         [[1., 1., 1.,  ..., 1., 1., 1.],\n",
      "          [1., 1., 1.,  ..., 1., 1., 1.],\n",
      "          [1., 1., 1.,  ..., 1., 1., 1.],\n",
      "          ...,\n",
      "          [1., 1., 1.,  ..., 1., 1., 1.],\n",
      "          [1., 1., 1.,  ..., 1., 1., 1.],\n",
      "          [1., 1., 1.,  ..., 1., 1., 1.]]]], grad_fn=<TanhBackward0>)\n"
     ]
    },
    {
     "data": {
      "text/plain": [
       "<matplotlib.image.AxesImage at 0x2046ced6e10>"
      ]
     },
     "execution_count": 11,
     "metadata": {},
     "output_type": "execute_result"
    },
    {
     "data": {
      "image/png": "[encoded data removed]",
      "text/plain": [
       "<Figure size 640x480 with 1 Axes>"
      ]
     },
     "metadata": {},
     "output_type": "display_data"
    }
   ],
   "source": [
    "import cv2\n",
    "\n",
    "img = cv2.imread(\"data/cats/3.jpg\")\n",
    "img = torch.from_numpy(img).float()\n",
    "img = img.view(1, 3, 64, 64)\n",
    "print(img.shape)\n",
    "print(img)\n",
    "rec_img = model.forward(img)[0]\n",
    "print(rec_img)\n",
    "rec_img = rec_img.view(64, 64, 3)\n",
    "rec_img = rec_img.detach().numpy()\n",
    "plt.imshow(rec_img)"
   ]
  },
  {
   "cell_type": "code",
   "execution_count": 25,
   "metadata": {},
   "outputs": [],
   "source": [
    "# model1000 = model"
   ]
  }
 ],
 "metadata": {
  "kernelspec": {
   "display_name": "NN",
   "language": "python",
   "name": "python3"
  },
  "language_info": {
   "codemirror_mode": {
    "name": "ipython",
    "version": 3
   },
   "file_extension": ".py",
   "mimetype": "text/x-python",
   "name": "python",
   "nbconvert_exporter": "python",
   "pygments_lexer": "ipython3",
   "version": "3.11.4"
  }
 },
 "nbformat": 4,
 "nbformat_minor": 2
}
