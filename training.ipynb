{
 "cells": [
  {
   "cell_type": "code",
   "execution_count": 30,
   "metadata": {},
   "outputs": [],
   "source": [
    "import torch\n",
    "import torch.nn as nn\n",
    "import torch.nn.functional as F\n",
    "from torch import optim\n",
    "import os\n",
    "import matplotlib.image as img\n",
    "import tqdm\n",
    "import matplotlib.pyplot as plt \n",
    "from vae import Basic_VAE\n",
    "from encoder import Encoder\n",
    "from decoder import Decoder\n",
    "from torch.utils.data import DataLoader, TensorDataset"
   ]
  },
  {
   "cell_type": "markdown",
   "metadata": {},
   "source": [
    "#### Create Dataset\n"
   ]
  },
  {
   "cell_type": "code",
   "execution_count": 31,
   "metadata": {},
   "outputs": [
    {
     "name": "stdout",
     "output_type": "stream",
     "text": [
      "torch.Size([3000, 3, 64, 64])\n"
     ]
    }
   ],
   "source": [
    "cats = []\n",
    "directory = \"data/cats\"\n",
    "count = 0\n",
    "\n",
    "for catpic in os.listdir(directory):\n",
    "    if count < 3000:\n",
    "        # read from image and convert to tensor\n",
    "        im = torch.tensor(img.imread(os.path.join(directory, catpic))).float()\n",
    "        # permute to (channels, height, width) for conv2d layer\n",
    "        im = torch.permute(im, (2, 0, 1))\n",
    "        # normalize to range between -1 and 1\n",
    "        im = im / 128 - 1\n",
    "        cats.append(im)\n",
    "        count += 1\n",
    "    else:\n",
    "        break\n",
    "cats = torch.stack(cats)\n",
    "print(cats.shape)"
   ]
  },
  {
   "cell_type": "markdown",
   "metadata": {},
   "source": [
    "#### Test/Training/Validation Split\n"
   ]
  },
  {
   "cell_type": "code",
   "execution_count": 32,
   "metadata": {},
   "outputs": [
    {
     "name": "stdout",
     "output_type": "stream",
     "text": [
      "torch.Size([1800, 3, 64, 64])\n",
      "torch.Size([451, 3, 64, 64])\n",
      "torch.Size([749, 3, 64, 64])\n"
     ]
    }
   ],
   "source": [
    "# Split the data into what we use for testing and not testing\n",
    "training_test_split = 0.75\n",
    "training_test_cutoff = int(cats.shape[0] * training_test_split + 1)\n",
    "random_perm = torch.randperm(cats.shape[0])\n",
    "not_test_tensor = cats[:training_test_cutoff]\n",
    "testing_tensor = cats[training_test_cutoff:]\n",
    "# Split the data into what we use for training and cross validation\n",
    "training_cv_split = 0.8\n",
    "training_cv_cutoff = int(not_test_tensor.shape[0] * training_cv_split)\n",
    "training_tensor = not_test_tensor[:training_cv_cutoff]\n",
    "cv_tensor = not_test_tensor[training_cv_cutoff:]\n",
    "print(training_tensor.shape)\n",
    "print(cv_tensor.shape)\n",
    "print(testing_tensor.shape)"
   ]
  },
  {
   "cell_type": "markdown",
   "metadata": {},
   "source": [
    "#### Choose Hyperparameters and Build Model\n"
   ]
  },
  {
   "cell_type": "code",
   "execution_count": 33,
   "metadata": {},
   "outputs": [],
   "source": [
    "from vae import Basic_VAE\n",
    "\n",
    "hidden_dims = [16, 32, 64, 128]\n",
    "latent_dim = 64\n",
    "in_dim = 3\n",
    "model = Basic_VAE(in_dim, hidden_dims, latent_dim)\n",
    "# encoder = Encoder(in_dim, hidden_dims, latent_dim) for testing\n",
    "# decoder = Decoder(latent_dim, hidden_dims) for testing"
   ]
  },
  {
   "cell_type": "code",
   "execution_count": 34,
   "metadata": {},
   "outputs": [
    {
     "data": {
      "text/plain": [
       "[tensor([[[[ 4.4432e-02,  3.8147e-01, -1.0840e-01,  ..., -1.9395e-01,\n",
       "             1.1578e-01, -6.2665e-02],\n",
       "           [ 3.5675e-02,  5.2581e-01,  3.2898e-01,  ..., -4.1034e-01,\n",
       "             2.8723e-01, -1.8746e-01],\n",
       "           [ 3.0575e-01,  6.6601e-01,  7.8123e-01,  ...,  6.3030e-01,\n",
       "             5.4253e-01,  1.6046e-01],\n",
       "           ...,\n",
       "           [ 4.9571e-02, -1.2899e-01,  2.9603e-01,  ...,  5.4094e-02,\n",
       "            -1.0483e-01,  1.0579e-01],\n",
       "           [ 2.6549e-01,  4.2650e-01,  5.6576e-01,  ..., -2.0252e-01,\n",
       "             6.4802e-03,  1.1686e-01],\n",
       "           [-1.8860e-02, -1.4903e-01, -6.5189e-02,  ...,  1.1229e-01,\n",
       "             1.1576e-01, -2.5140e-02]],\n",
       " \n",
       "          [[-1.1834e-01,  3.4773e-02,  2.8212e-01,  ...,  2.7037e-01,\n",
       "             7.3825e-02,  1.0475e-02],\n",
       "           [-4.0073e-01,  4.5983e-01, -5.9338e-01,  ..., -5.9905e-01,\n",
       "             1.4719e-01, -2.8182e-01],\n",
       "           [-1.1318e-01,  6.9378e-01, -4.7710e-01,  ...,  2.3735e-01,\n",
       "            -1.9829e-01, -2.2894e-02],\n",
       "           ...,\n",
       "           [-9.2331e-04, -2.5447e-01,  2.5737e-01,  ..., -1.0504e-01,\n",
       "            -2.4600e-01, -2.0029e-02],\n",
       "           [-1.0898e-01, -2.4265e-01, -2.5740e-01,  ..., -8.2203e-02,\n",
       "             1.1236e-01, -7.0943e-03],\n",
       "           [-6.5893e-02, -5.7531e-02, -3.6403e-01,  ..., -3.0277e-02,\n",
       "            -4.8553e-02, -2.7173e-04]],\n",
       " \n",
       "          [[-2.5361e-02, -1.2645e-01,  1.3490e-01,  ..., -1.6929e-01,\n",
       "            -4.2270e-02,  1.0452e-01],\n",
       "           [ 1.5245e-01, -2.4830e-01, -7.9167e-01,  ..., -4.9079e-01,\n",
       "             1.7140e-01,  5.2382e-02],\n",
       "           [-6.0563e-02,  8.3606e-01, -9.2243e-01,  ..., -6.1617e-01,\n",
       "             3.7528e-01,  5.3706e-01],\n",
       "           ...,\n",
       "           [-1.6374e-01,  9.9808e-02, -3.4521e-01,  ...,  1.5443e-01,\n",
       "            -1.0952e-01,  8.4126e-02],\n",
       "           [-1.6971e-02,  1.8942e-01, -6.5685e-01,  ..., -8.3522e-02,\n",
       "            -1.0122e-01, -2.6624e-01],\n",
       "           [ 6.8277e-02, -5.8806e-02, -1.5940e-01,  ...,  1.1216e-01,\n",
       "             2.9572e-01, -9.2080e-02]]],\n",
       " \n",
       " \n",
       "         [[[ 7.3194e-02,  9.9558e-03, -2.6201e-01,  ..., -1.3774e-01,\n",
       "             3.1897e-01, -5.7395e-02],\n",
       "           [-2.2024e-01,  4.8072e-01, -5.5554e-01,  ..., -2.1333e-01,\n",
       "             1.8530e-01,  3.7894e-01],\n",
       "           [-3.6098e-01,  3.3561e-01,  3.8901e-01,  ...,  4.1106e-01,\n",
       "            -1.1276e-01,  6.0086e-02],\n",
       "           ...,\n",
       "           [-7.9449e-02, -2.0313e-01, -4.1688e-02,  ..., -6.0698e-02,\n",
       "             7.3245e-02,  2.1121e-01],\n",
       "           [-9.8518e-02, -2.3345e-02, -2.4158e-01,  ...,  1.1525e-01,\n",
       "             1.0166e-01,  4.2054e-02],\n",
       "           [ 2.3329e-02, -4.1877e-02,  2.0543e-01,  ..., -1.4589e-01,\n",
       "             3.7901e-02,  5.2507e-02]],\n",
       " \n",
       "          [[-1.3655e-01, -4.2446e-01, -6.4027e-02,  ..., -6.1818e-03,\n",
       "            -3.4338e-01, -2.3906e-01],\n",
       "           [-8.7801e-02,  1.1042e-01, -5.1310e-01,  ..., -6.2453e-01,\n",
       "             1.2735e-01,  7.4227e-02],\n",
       "           [ 1.8238e-01,  1.2012e-01,  4.9431e-01,  ..., -1.8181e-01,\n",
       "            -2.5882e-01, -2.5620e-02],\n",
       "           ...,\n",
       "           [ 1.0204e-01, -1.8620e-01,  6.6764e-02,  ...,  1.6524e-02,\n",
       "             1.3965e-01, -1.3848e-01],\n",
       "           [-4.9753e-02, -2.4795e-01,  1.9159e-01,  ...,  7.2338e-02,\n",
       "            -4.0071e-02, -1.5133e-01],\n",
       "           [-1.3691e-02,  2.8304e-02, -1.2544e-01,  ..., -2.5562e-01,\n",
       "            -1.7249e-01, -1.5851e-03]],\n",
       " \n",
       "          [[ 4.8194e-02,  5.4874e-01, -6.1921e-01,  ..., -1.3032e-01,\n",
       "             1.0541e-01,  7.7419e-02],\n",
       "           [ 2.8387e-01,  5.2836e-01, -2.6310e-01,  ..., -2.3353e-01,\n",
       "            -2.0224e-01,  1.7692e-01],\n",
       "           [-1.7900e-01, -4.1865e-01,  4.6357e-01,  ..., -4.2507e-01,\n",
       "             3.2767e-01, -3.3841e-02],\n",
       "           ...,\n",
       "           [ 1.1664e-01,  9.5566e-02, -2.1256e-01,  ..., -5.2219e-03,\n",
       "            -9.0754e-02, -1.1370e-01],\n",
       "           [-1.3202e-01,  2.0599e-02, -8.8057e-02,  ...,  3.3249e-01,\n",
       "            -2.2552e-01, -2.3624e-01],\n",
       "           [ 1.5631e-02, -2.8253e-01,  1.8917e-01,  ..., -2.5227e-01,\n",
       "             9.7462e-02, -1.9656e-02]]],\n",
       " \n",
       " \n",
       "         [[[-1.2469e-01, -5.4368e-02,  3.2746e-02,  ..., -3.0712e-01,\n",
       "             3.5816e-01,  3.1135e-02],\n",
       "           [-4.3298e-01,  3.4351e-01, -3.3525e-01,  ...,  1.4584e-01,\n",
       "            -3.0346e-01,  2.9051e-01],\n",
       "           [-2.8105e-01,  7.8271e-01,  9.5714e-01,  ...,  4.5869e-01,\n",
       "             4.7362e-02,  4.7477e-01],\n",
       "           ...,\n",
       "           [-3.5076e-02, -3.1581e-02, -1.6020e-02,  ..., -1.7945e-01,\n",
       "             2.5809e-01,  3.3229e-01],\n",
       "           [ 5.4389e-02,  7.2266e-01,  1.2703e-01,  ...,  3.8978e-01,\n",
       "            -6.7755e-02,  2.7875e-01],\n",
       "           [ 1.6347e-01, -6.5998e-02,  5.2716e-02,  ..., -1.3427e-01,\n",
       "             2.7944e-01,  2.4456e-02]],\n",
       " \n",
       "          [[ 6.3966e-03,  1.5015e-01, -5.1633e-02,  ..., -1.1691e-01,\n",
       "            -5.1020e-02,  6.1787e-02],\n",
       "           [-3.1489e-01, -4.3692e-01,  5.4380e-01,  ..., -7.0265e-02,\n",
       "             6.3929e-02, -3.3822e-01],\n",
       "           [ 1.9605e-01,  8.7013e-01, -9.2612e-01,  ..., -3.2849e-01,\n",
       "            -1.6820e-01,  3.0792e-01],\n",
       "           ...,\n",
       "           [-3.3982e-02, -2.8470e-01,  3.0590e-01,  ..., -3.8580e-01,\n",
       "            -3.1204e-01, -4.2845e-01],\n",
       "           [ 2.0719e-02, -1.8319e-02, -8.0498e-02,  ..., -9.1967e-03,\n",
       "            -8.0034e-03,  3.7829e-02],\n",
       "           [-1.6444e-01,  5.0128e-02, -3.6084e-01,  ..., -1.4397e-01,\n",
       "             1.4893e-01, -2.5405e-01]],\n",
       " \n",
       "          [[-3.1054e-01, -5.7165e-01,  4.2002e-01,  ..., -2.0742e-01,\n",
       "             4.3520e-01, -9.8862e-02],\n",
       "           [-6.5087e-01,  4.5003e-02, -2.1286e-01,  ...,  6.1174e-01,\n",
       "             3.7706e-01, -1.2853e-01],\n",
       "           [ 2.9894e-01,  4.3159e-01,  1.9455e-01,  ...,  6.4691e-01,\n",
       "            -6.0144e-02, -4.1753e-02],\n",
       "           ...,\n",
       "           [-1.2305e-01,  4.4698e-01, -5.5483e-01,  ...,  9.3467e-02,\n",
       "            -4.5381e-02,  2.3396e-01],\n",
       "           [ 1.5583e-01,  4.2623e-01, -4.5482e-01,  ...,  1.7086e-01,\n",
       "             2.5301e-01, -5.5295e-03],\n",
       "           [ 5.5297e-02, -3.0390e-01, -1.4094e-01,  ..., -1.1492e-01,\n",
       "             1.3732e-01, -1.3065e-01]]],\n",
       " \n",
       " \n",
       "         ...,\n",
       " \n",
       " \n",
       "         [[[-5.4960e-02, -1.3781e-01, -3.1342e-01,  ...,  8.5283e-02,\n",
       "             3.7532e-01,  2.1223e-01],\n",
       "           [-1.0434e-01, -6.4072e-01,  7.2388e-01,  ...,  1.2258e-01,\n",
       "            -8.1094e-02,  1.8630e-01],\n",
       "           [ 1.3102e-01, -2.3029e-01, -8.5117e-01,  ..., -2.1518e-01,\n",
       "            -1.7038e-01, -4.6887e-02],\n",
       "           ...,\n",
       "           [-1.4528e-01,  5.8074e-02,  2.2158e-01,  ...,  1.4572e-03,\n",
       "            -2.5600e-02, -1.5769e-01],\n",
       "           [-5.6226e-02,  6.0962e-01,  2.2100e-01,  ...,  2.3542e-01,\n",
       "             2.2676e-01,  3.6889e-01],\n",
       "           [ 1.5943e-01,  2.7160e-01, -5.5078e-01,  ..., -7.9937e-02,\n",
       "            -7.7804e-02, -1.3728e-01]],\n",
       " \n",
       "          [[ 5.4263e-02, -3.3496e-01, -2.6647e-01,  ...,  1.3606e-01,\n",
       "            -5.8948e-02,  5.9415e-02],\n",
       "           [-2.1240e-01, -5.0758e-01, -4.2412e-01,  ...,  5.9350e-02,\n",
       "             2.0369e-01,  4.2538e-02],\n",
       "           [ 3.8189e-02,  2.4110e-01,  4.8906e-01,  ..., -3.4697e-01,\n",
       "            -2.8465e-01, -2.0803e-01],\n",
       "           ...,\n",
       "           [-3.0343e-01, -1.7160e-01, -2.6689e-01,  ..., -4.0367e-01,\n",
       "            -7.4938e-02, -3.8861e-01],\n",
       "           [-6.1394e-02,  2.1531e-01, -3.4928e-01,  ...,  4.4080e-01,\n",
       "            -3.3462e-02,  3.8905e-02],\n",
       "           [-1.1837e-02, -1.7487e-02, -7.5016e-02,  ..., -2.4297e-01,\n",
       "            -5.4103e-02, -4.8920e-02]],\n",
       " \n",
       "          [[-1.3812e-01, -2.8493e-01,  3.5904e-01,  ..., -6.9715e-02,\n",
       "             1.0025e-01, -1.9766e-01],\n",
       "           [-5.9244e-01, -2.0791e-01,  8.2783e-01,  ...,  2.2197e-01,\n",
       "             2.1255e-01, -3.4161e-01],\n",
       "           [ 2.1356e-01,  1.9790e-01, -5.0531e-01,  ..., -1.9606e-01,\n",
       "            -1.0346e-01, -2.2991e-01],\n",
       "           ...,\n",
       "           [-3.6721e-01, -2.7799e-01,  2.6195e-01,  ..., -3.1987e-01,\n",
       "            -7.9704e-02,  4.0597e-02],\n",
       "           [ 1.9072e-01,  3.0705e-01, -3.4229e-01,  ...,  5.6854e-01,\n",
       "            -1.2665e-01,  8.9655e-03],\n",
       "           [-2.7451e-01, -6.6935e-02, -4.4696e-01,  ...,  2.0702e-01,\n",
       "             1.9779e-01, -3.7731e-02]]],\n",
       " \n",
       " \n",
       "         [[[ 2.3399e-01, -3.8038e-02,  1.3206e-01,  ...,  2.3774e-01,\n",
       "             4.3986e-02,  7.8748e-02],\n",
       "           [ 2.3515e-01,  6.4401e-01, -5.1046e-01,  ...,  3.7828e-02,\n",
       "             2.4551e-01, -5.8571e-02],\n",
       "           [ 1.2089e-01,  3.0014e-02,  3.4578e-01,  ..., -4.7886e-01,\n",
       "            -2.6941e-01, -2.6664e-01],\n",
       "           ...,\n",
       "           [-3.8451e-02, -8.4500e-02, -1.3196e-01,  ..., -4.5815e-02,\n",
       "             2.1162e-01, -1.7725e-02],\n",
       "           [ 1.9139e-01, -2.5508e-01,  3.2760e-01,  ...,  2.5253e-01,\n",
       "             1.0946e-02,  1.5363e-01],\n",
       "           [-2.6058e-01,  1.8786e-01,  3.3789e-01,  ...,  1.7068e-01,\n",
       "            -8.3427e-02, -1.5868e-02]],\n",
       " \n",
       "          [[-2.8939e-01, -9.5746e-02, -2.8995e-01,  ..., -1.0426e-01,\n",
       "            -1.1937e-01,  1.7254e-02],\n",
       "           [-8.4078e-02, -2.6924e-01,  8.0790e-02,  ..., -3.2064e-02,\n",
       "             2.8722e-01, -1.6710e-01],\n",
       "           [-4.8134e-01, -6.0692e-01,  2.2755e-01,  ..., -3.8671e-01,\n",
       "             3.3861e-03, -4.2962e-01],\n",
       "           ...,\n",
       "           [-7.9954e-02, -3.7360e-01,  1.4875e-01,  ..., -3.4372e-01,\n",
       "            -8.2638e-02, -1.8072e-01],\n",
       "           [-8.5776e-02, -2.5117e-01, -4.5366e-02,  ...,  3.8646e-01,\n",
       "            -1.0834e-01, -1.8851e-01],\n",
       "           [-6.1458e-02, -1.7324e-01,  2.5594e-01,  ..., -2.5048e-01,\n",
       "             7.7847e-02, -5.2692e-02]],\n",
       " \n",
       "          [[ 4.3488e-01, -3.8575e-01,  2.5493e-01,  ..., -1.1423e-02,\n",
       "            -2.6076e-01, -3.2409e-01],\n",
       "           [-1.2368e-01,  3.0481e-01, -3.0117e-01,  ..., -5.8512e-01,\n",
       "            -2.2652e-01, -2.0136e-01],\n",
       "           [-2.7184e-01,  5.6847e-01,  7.0001e-02,  ..., -2.6294e-01,\n",
       "             1.3438e-01, -2.1201e-01],\n",
       "           ...,\n",
       "           [-4.8163e-01,  5.8900e-02,  9.9240e-02,  ..., -2.0781e-01,\n",
       "             2.6049e-01, -1.3379e-02],\n",
       "           [-2.5064e-01, -3.2944e-01,  1.9878e-01,  ...,  1.9633e-01,\n",
       "            -1.2733e-02,  9.6032e-02],\n",
       "           [-2.3987e-01,  2.1477e-01,  5.7459e-01,  ...,  3.2507e-02,\n",
       "             2.9075e-02,  5.9446e-04]]],\n",
       " \n",
       " \n",
       "         [[[ 2.5617e-02,  7.7941e-02,  3.5084e-01,  ...,  1.6472e-01,\n",
       "            -3.9487e-02,  1.1849e-01],\n",
       "           [-3.2118e-02, -3.2733e-02, -8.2158e-01,  ...,  4.9425e-01,\n",
       "             2.1007e-01,  3.4534e-02],\n",
       "           [ 3.7043e-01,  1.6876e-01,  3.0047e-01,  ..., -5.8504e-01,\n",
       "            -2.0090e-01,  1.6112e-01],\n",
       "           ...,\n",
       "           [ 5.1613e-03, -3.7460e-01,  4.2846e-01,  ...,  1.0134e-01,\n",
       "            -1.2426e-03,  9.1859e-02],\n",
       "           [ 2.5686e-01,  2.3281e-01, -3.0909e-01,  ..., -1.3713e-01,\n",
       "             4.6788e-02, -1.0749e-01],\n",
       "           [-4.3291e-02,  4.3073e-01,  1.1587e-01,  ..., -1.6480e-02,\n",
       "             5.7831e-02,  1.0701e-01]],\n",
       " \n",
       "          [[-1.5988e-01, -4.2214e-01, -3.4569e-01,  ..., -3.1136e-01,\n",
       "            -1.6748e-01, -2.1022e-01],\n",
       "           [ 1.9761e-02,  4.8246e-03, -1.7466e-01,  ...,  2.5816e-01,\n",
       "             1.3863e-01, -5.4677e-03],\n",
       "           [-1.9608e-02,  4.3361e-01, -3.0865e-01,  ..., -5.7710e-01,\n",
       "            -3.0318e-02, -9.2688e-02],\n",
       "           ...,\n",
       "           [ 4.0656e-02, -3.7012e-01, -6.8147e-02,  ...,  5.3147e-02,\n",
       "             5.6260e-02,  2.7011e-02],\n",
       "           [ 3.4453e-02,  3.0061e-01, -8.2563e-02,  ..., -3.6887e-02,\n",
       "             9.4316e-02, -1.4726e-01],\n",
       "           [-1.2787e-01, -1.5502e-02,  9.1113e-02,  ...,  2.2969e-02,\n",
       "            -2.3018e-01,  2.3681e-03]],\n",
       " \n",
       "          [[ 3.1916e-01, -9.6533e-02, -7.8661e-02,  ...,  1.8188e-01,\n",
       "             1.3847e-01, -2.7713e-01],\n",
       "           [-4.0166e-01,  7.2352e-01, -7.2082e-01,  ...,  4.5814e-01,\n",
       "            -2.1739e-01, -4.0964e-01],\n",
       "           [-9.3472e-02, -5.7317e-01,  9.0345e-01,  ...,  7.5110e-01,\n",
       "            -2.7282e-01, -7.3758e-01],\n",
       "           ...,\n",
       "           [-1.1393e-01, -2.8319e-01,  3.3717e-01,  ..., -2.4042e-01,\n",
       "            -1.6066e-01, -8.8469e-02],\n",
       "           [ 1.1292e-01, -2.4582e-01,  1.6216e-01,  ..., -7.9826e-02,\n",
       "            -2.3539e-01, -1.1806e-01],\n",
       "           [-2.0945e-01, -9.4327e-02, -7.9235e-02,  ..., -2.0468e-01,\n",
       "            -3.9940e-02, -1.8434e-02]]]], grad_fn=<TanhBackward0>),\n",
       " tensor([[ 0.0945, -0.1104, -0.0432,  ..., -0.1486, -0.4642, -0.0249],\n",
       "         [-0.1285, -0.2412,  0.0113,  ...,  0.1914, -0.1318,  0.4154],\n",
       "         [-0.4043,  0.4119, -1.1933,  ..., -0.1910, -1.1660,  0.9667],\n",
       "         ...,\n",
       "         [-0.2614, -0.4462, -0.1204,  ...,  0.0402, -0.7690, -0.0286],\n",
       "         [-0.0814,  0.0828, -0.4064,  ...,  0.0728, -0.3942,  0.4974],\n",
       "         [-0.3163, -0.2569,  0.1739,  ...,  0.5627, -0.0183,  0.0337]],\n",
       "        grad_fn=<AddmmBackward0>),\n",
       " tensor([[ 1.6007e-01, -1.5429e-01,  6.6260e-01,  ..., -1.2123e-01,\n",
       "           3.2051e-01, -5.3415e-01],\n",
       "         [ 1.7898e-01,  2.1017e-01,  1.4161e-01,  ..., -1.3656e-01,\n",
       "           9.8483e-02, -2.0839e-01],\n",
       "         [-5.7198e-02, -7.4586e-01, -1.1060e-01,  ..., -8.5911e-01,\n",
       "          -5.8473e-01,  2.6168e-01],\n",
       "         ...,\n",
       "         [-2.3394e-02, -5.1716e-01,  9.2197e-01,  ..., -1.4794e-01,\n",
       "          -6.0377e-01, -3.8404e-01],\n",
       "         [ 1.0097e-01, -1.4184e-01,  1.2431e-01,  ..., -2.7862e-01,\n",
       "           1.6079e-01, -5.0218e-01],\n",
       "         [-1.4487e-01, -4.0892e-01,  2.0083e-04,  ...,  1.0708e-01,\n",
       "           9.1595e-01, -2.1408e-01]], grad_fn=<AddmmBackward0>)]"
      ]
     },
     "execution_count": 34,
     "metadata": {},
     "output_type": "execute_result"
    }
   ],
   "source": [
    "# # Testing the model\n",
    "model.forward(training_tensor)\n",
    "# # Code to test out the encoder & decoder\n",
    "# mu, log_var = encoder.forward(training_tensor)\n",
    "# print(\"mu: \", mu.shape)\n",
    "# print(\"log_var: \", log_var.shape)\n",
    "\n",
    "# reconstructed_img = decoder.forward(mu, log_var)"
   ]
  },
  {
   "cell_type": "markdown",
   "metadata": {},
   "source": [
    "#### Implement Loss Function\n"
   ]
  },
  {
   "cell_type": "code",
   "execution_count": 35,
   "metadata": {},
   "outputs": [],
   "source": [
    "def loss_function(reconstructed_img, input_img, mu, log_var, kld_weight=2):\n",
    "    # print(\"reconstructed_img: \", reconstructed_img.shape)\n",
    "    # print(\"input_img: \", input_img.shape)\n",
    "    img_loss = F.mse_loss(reconstructed_img, input_img)\n",
    "    # article on calculating kl divergence between 2 gaussians:\n",
    "    # https://medium.com/@outerrencedl/variational-autoencoder-and-a-bit-kl-divergence-with-pytorch-ce04fd55d0d7\n",
    "    kld_loss = torch.mean(\n",
    "        torch.sum(-log_var + (log_var.exp() ** 2 + mu**2) / 2 - 1 / 2)\n",
    "        \n",
    "    )\n",
    "    # kld_loss = torch.mean(-0.5 * torch.sum(1 + log_var - mu.pow(2) - log_var.exp()))\n",
    "    kld_loss *= kld_weight\n",
    "\n",
    "    return img_loss + kld_loss"
   ]
  },
  {
   "cell_type": "markdown",
   "metadata": {},
   "source": [
    "#### Implement Gradient Descent\n"
   ]
  },
  {
   "cell_type": "code",
   "execution_count": 36,
   "metadata": {},
   "outputs": [],
   "source": [
    "def gradient_descent(model, loss_func, x, y, xvalid, yvalid, lr=0.1, steps=5000, batch_size=32):\n",
    "    # only really need x or y, they are the same thing\n",
    "    optimizer = optim.AdamW(model.parameters(), lr)\n",
    "\n",
    "    losses = []\n",
    "    valid_losses = []\n",
    "\n",
    "    train_dataset = TensorDataset(x, y)\n",
    "    train_batches = DataLoader(train_dataset, batch_size=batch_size, shuffle=True)\n",
    "\n",
    "    valid_dataset = TensorDataset(xvalid, yvalid)\n",
    "    valid_batches = DataLoader(valid_dataset, batch_size=batch_size, shuffle=False)\n",
    "\n",
    "    for _ in tqdm.trange(steps):\n",
    "        model.train()\n",
    "        total_loss = 0\n",
    "\n",
    "        for input_batch, label_batch in train_batches:\n",
    "            reconstructed_img, mu, log_var = model(input_batch)\n",
    "            # y is the original image I think? yeah\n",
    "            loss = loss_func(reconstructed_img, label_batch, mu, log_var)\n",
    "            loss.backward()\n",
    "            optimizer.step()\n",
    "            total_loss += loss.item()\n",
    "            optimizer.zero_grad()\n",
    "        mean_loss = total_loss/len(train_batches)\n",
    "        losses.append(mean_loss)\n",
    "\n",
    "        model.eval()\n",
    "        total_valid_loss = 0\n",
    "        for input_valid_batch, label_valid_batch in valid_batches:\n",
    "            reconstructed_img, mu, log_var = model(input_valid_batch)\n",
    "            valid_loss = loss_func(reconstructed_img, label_valid_batch, mu, log_var)\n",
    "            total_valid_loss += valid_loss.detach()\n",
    "        mean_valid_loss = total_valid_loss/len(valid_batches)\n",
    "        valid_losses.append(mean_valid_loss)\n",
    "\n",
    "    print(f\"Final training loss: {losses[-1]}\")\n",
    "\n",
    "    return losses, valid_losses"
   ]
  },
  {
   "cell_type": "code",
   "execution_count": 37,
   "metadata": {},
   "outputs": [
    {
     "name": "stderr",
     "output_type": "stream",
     "text": [
      "  0%|          | 0/500 [00:00<?, ?it/s]"
     ]
    },
    {
     "name": "stderr",
     "output_type": "stream",
     "text": [
      "100%|██████████| 500/500 [49:41<00:00,  5.96s/it]"
     ]
    },
    {
     "name": "stdout",
     "output_type": "stream",
     "text": [
      "Final training loss: 0.24581536833654372\n"
     ]
    },
    {
     "name": "stderr",
     "output_type": "stream",
     "text": [
      "\n"
     ]
    }
   ],
   "source": [
    "losses, valid_losses = gradient_descent(\n",
    "    model, loss_function, training_tensor, training_tensor, cv_tensor, cv_tensor, steps=500, lr = 0.001\n",
    ")"
   ]
  },
  {
   "cell_type": "code",
   "execution_count": 40,
   "metadata": {},
   "outputs": [],
   "source": [
    "torch.save(model.state_dict(), \"saved_model\")"
   ]
  },
  {
   "cell_type": "code",
   "execution_count": 41,
   "metadata": {},
   "outputs": [
    {
     "name": "stdout",
     "output_type": "stream",
     "text": [
      "torch.Size([1, 64])\n"
     ]
    },
    {
     "name": "stderr",
     "output_type": "stream",
     "text": [
      "Clipping input data to the valid range for imshow with RGB data ([0..1] for floats or [0..255] for integers).\n"
     ]
    },
    {
     "data": {
      "text/plain": [
       "<matplotlib.image.AxesImage at 0x215aa21d390>"
      ]
     },
     "execution_count": 41,
     "metadata": {},
     "output_type": "execute_result"
    },
    {
     "data": {
      "image/png": "[encoded data removed]",
      "text/plain": [
       "<Figure size 640x480 with 1 Axes>"
      ]
     },
     "metadata": {},
     "output_type": "display_data"
    }
   ],
   "source": [
    "# after we've trained, we use the decoder to generate new images\n",
    "# we assume a normal distribution over our latent space\n",
    "# so we sample from that distribution and feed it into the decoder\n",
    "img = model.sample_img()\n",
    "img = img.view(64, 64, 3)\n",
    "img = img.detach().numpy()\n",
    "plt.imshow(img)"
   ]
  },
  {
   "cell_type": "code",
   "execution_count": null,
   "metadata": {},
   "outputs": [],
   "source": []
  }
 ],
 "metadata": {
  "kernelspec": {
   "display_name": "NN",
   "language": "python",
   "name": "python3"
  },
  "language_info": {
   "codemirror_mode": {
    "name": "ipython",
    "version": 3
   },
   "file_extension": ".py",
   "mimetype": "text/x-python",
   "name": "python",
   "nbconvert_exporter": "python",
   "pygments_lexer": "ipython3",
   "version": "3.11.4"
  }
 },
 "nbformat": 4,
 "nbformat_minor": 2
}
