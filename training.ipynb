{
 "cells": [
  {
   "cell_type": "code",
   "execution_count": 1,
   "metadata": {},
   "outputs": [],
   "source": [
    "import torch\n",
    "import torch.nn as nn\n",
    "import os\n",
    "import matplotlib.image as img\n",
    "from vae import Basic_VAE"
   ]
  },
  {
   "cell_type": "code",
   "execution_count": 5,
   "metadata": {},
   "outputs": [
    {
     "name": "stdout",
     "output_type": "stream",
     "text": [
      "torch.Size([3, 64, 64])\n"
     ]
    }
   ],
   "source": [
    "cats = []\n",
    "directory = \"data/cats\"\n",
    "for catpic in os.listdir(directory):\n",
    "    # read from image and convert to tensor\n",
    "    im = torch.tensor(img.imread(os.path.join(directory, catpic))).float()\n",
    "    # permute to (channels, height, width) for conv2d layer\n",
    "    im = torch.permute(im, (2, 0, 1))\n",
    "    # normalize to range between -1 and 1\n",
    "    im = im / 128 - 1\n",
    "    cats.append(im)\n",
    "print(cats[0].shape)"
   ]
  },
  {
   "cell_type": "code",
   "execution_count": null,
   "metadata": {},
   "outputs": [],
   "source": [
    "hidden_dims = [16, 32, 64, 128]\n",
    "latent_dim = 64\n",
    "model = Basic_VAE(64, hidden_dims, latent_dim)"
   ]
  }
 ],
 "metadata": {
  "kernelspec": {
   "display_name": "NN",
   "language": "python",
   "name": "python3"
  },
  "language_info": {
   "codemirror_mode": {
    "name": "ipython",
    "version": 3
   },
   "file_extension": ".py",
   "mimetype": "text/x-python",
   "name": "python",
   "nbconvert_exporter": "python",
   "pygments_lexer": "ipython3",
   "version": "3.11.5"
  }
 },
 "nbformat": 4,
 "nbformat_minor": 2
}
