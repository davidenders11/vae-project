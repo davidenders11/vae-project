{
 "cells": [
  {
   "cell_type": "code",
   "execution_count": 4,
   "metadata": {},
   "outputs": [],
   "source": [
    "import torch\n",
    "import torch.nn as nn\n",
    "import torch.nn.functional as F\n",
    "from torch import optim\n",
    "import os\n",
    "import matplotlib.image as img\n",
    "import tqdm\n",
    "from vae import Basic_VAE"
   ]
  },
  {
   "cell_type": "markdown",
   "metadata": {},
   "source": [
    "#### Create Dataset\n"
   ]
  },
  {
   "cell_type": "code",
   "execution_count": 5,
   "metadata": {},
   "outputs": [
    {
     "name": "stdout",
     "output_type": "stream",
     "text": [
      "torch.Size([1000, 3, 64, 64])\n"
     ]
    }
   ],
   "source": [
    "cats = []\n",
    "directory = \"data/cats\"\n",
    "count = 0\n",
    "for catpic in os.listdir(directory):\n",
    "    if count < 1000:\n",
    "        # read from image and convert to tensor\n",
    "        im = torch.tensor(img.imread(os.path.join(directory, catpic))).float()\n",
    "        # permute to (channels, height, width) for conv2d layer\n",
    "        im = torch.permute(im, (2, 0, 1))\n",
    "        # normalize to range between -1 and 1\n",
    "        im = im / 128 - 1\n",
    "        cats.append(im)\n",
    "        count+=1\n",
    "    else:\n",
    "        break\n",
    "cats = torch.stack(cats)\n",
    "print(cats.shape)"
   ]
  },
  {
   "cell_type": "markdown",
   "metadata": {},
   "source": [
    "#### Test/Training/Validation Split\n"
   ]
  },
  {
   "cell_type": "code",
   "execution_count": 6,
   "metadata": {},
   "outputs": [
    {
     "name": "stdout",
     "output_type": "stream",
     "text": [
      "torch.Size([640, 3, 64, 64])\n",
      "torch.Size([161, 3, 64, 64])\n",
      "torch.Size([199, 3, 64, 64])\n"
     ]
    }
   ],
   "source": [
    "# Split the data into what we use for testing and not testing\n",
    "traing_test_split = 0.8\n",
    "training_test_cutoff = int(cats.shape[0] * traing_test_split + 1)\n",
    "random_perm = torch.randperm(cats.shape[0])\n",
    "not_test_tensor = cats[:training_test_cutoff]\n",
    "testing_tensor = cats[training_test_cutoff:]\n",
    "# Split the data into what we use for training and cross validation\n",
    "training_cv_split = 0.8\n",
    "training_cv_cutoff = int(not_test_tensor.shape[0] * training_cv_split)\n",
    "training_tensor = not_test_tensor[:training_cv_cutoff]\n",
    "cv_tensor = not_test_tensor[training_cv_cutoff:]\n",
    "print(training_tensor.shape)\n",
    "print(cv_tensor.shape)\n",
    "print(testing_tensor.shape)"
   ]
  },
  {
   "cell_type": "markdown",
   "metadata": {},
   "source": [
    "#### Choose Hyperparameters and Build Model\n"
   ]
  },
  {
   "cell_type": "code",
   "execution_count": 7,
   "metadata": {},
   "outputs": [
    {
     "ename": "TypeError",
     "evalue": "object of type 'list_reverseiterator' has no len()",
     "output_type": "error",
     "traceback": [
      "\u001b[1;31m---------------------------------------------------------------------------\u001b[0m",
      "\u001b[1;31mTypeError\u001b[0m                                 Traceback (most recent call last)",
      "\u001b[1;32mc:\\Users\\Joshua\\Documents\\College\\Senior\\NeuralNets\\vae-project\\training.ipynb Cell 7\u001b[0m line \u001b[0;36m3\n\u001b[0;32m      <a href='vscode-notebook-cell:/c%3A/Users/Joshua/Documents/College/Senior/NeuralNets/vae-project/training.ipynb#W6sZmlsZQ%3D%3D?line=0'>1</a>\u001b[0m hidden_dims \u001b[39m=\u001b[39m [\u001b[39m16\u001b[39m, \u001b[39m32\u001b[39m, \u001b[39m64\u001b[39m, \u001b[39m128\u001b[39m]\n\u001b[0;32m      <a href='vscode-notebook-cell:/c%3A/Users/Joshua/Documents/College/Senior/NeuralNets/vae-project/training.ipynb#W6sZmlsZQ%3D%3D?line=1'>2</a>\u001b[0m latent_dim \u001b[39m=\u001b[39m \u001b[39m64\u001b[39m\n\u001b[1;32m----> <a href='vscode-notebook-cell:/c%3A/Users/Joshua/Documents/College/Senior/NeuralNets/vae-project/training.ipynb#W6sZmlsZQ%3D%3D?line=2'>3</a>\u001b[0m model \u001b[39m=\u001b[39m Basic_VAE(\u001b[39m64\u001b[39;49m, hidden_dims, latent_dim)\n",
      "File \u001b[1;32mc:\\Users\\Joshua\\Documents\\College\\Senior\\NeuralNets\\vae-project\\vae.py:13\u001b[0m, in \u001b[0;36mBasic_VAE.__init__\u001b[1;34m(self, in_dim, hidden_dims, latent_dim)\u001b[0m\n\u001b[0;32m     11\u001b[0m \u001b[39msuper\u001b[39m()\u001b[39m.\u001b[39m\u001b[39m__init__\u001b[39m()\n\u001b[0;32m     12\u001b[0m \u001b[39mself\u001b[39m\u001b[39m.\u001b[39mencoder \u001b[39m=\u001b[39m Encoder(in_dim, hidden_dims, latent_dim)\n\u001b[1;32m---> 13\u001b[0m \u001b[39mself\u001b[39m\u001b[39m.\u001b[39mdecoder \u001b[39m=\u001b[39m Decoder(latent_dim, hidden_dims)\n",
      "File \u001b[1;32mc:\\Users\\Joshua\\Documents\\College\\Senior\\NeuralNets\\vae-project\\decoder.py:40\u001b[0m, in \u001b[0;36mDecoder.__init__\u001b[1;34m(self, latent_dim, hidden_dims)\u001b[0m\n\u001b[0;32m     37\u001b[0m hidden_dims_reversed \u001b[39m=\u001b[39m \u001b[39mreversed\u001b[39m(\u001b[39mself\u001b[39m\u001b[39m.\u001b[39mhidden_dims)\n\u001b[0;32m     39\u001b[0m \u001b[39m# Construct decoder network to up-sample data\u001b[39;00m\n\u001b[1;32m---> 40\u001b[0m \u001b[39mfor\u001b[39;00m i \u001b[39min\u001b[39;00m \u001b[39mrange\u001b[39m(\u001b[39mlen\u001b[39;49m(hidden_dims_reversed) \u001b[39m-\u001b[39m \u001b[39m1\u001b[39m):\n\u001b[0;32m     41\u001b[0m     layer \u001b[39m=\u001b[39m nn\u001b[39m.\u001b[39mSequential(\n\u001b[0;32m     42\u001b[0m         nn\u001b[39m.\u001b[39mConvTranspose2d(\n\u001b[0;32m     43\u001b[0m             in_channels\u001b[39m=\u001b[39mhidden_dims_reversed[i],\n\u001b[1;32m   (...)\u001b[0m\n\u001b[0;32m     50\u001b[0m         nn\u001b[39m.\u001b[39mBatchNorm2d(hidden_dims_reversed[i \u001b[39m+\u001b[39m \u001b[39m1\u001b[39m]),\n\u001b[0;32m     51\u001b[0m     )\n\u001b[0;32m     52\u001b[0m     modules\u001b[39m.\u001b[39mappend(layer)\n",
      "\u001b[1;31mTypeError\u001b[0m: object of type 'list_reverseiterator' has no len()"
     ]
    }
   ],
   "source": [
    "hidden_dims = [16, 32, 64, 128]\n",
    "latent_dim = 64\n",
    "model = Basic_VAE(64, hidden_dims, latent_dim)"
   ]
  },
  {
   "cell_type": "markdown",
   "metadata": {},
   "source": [
    "#### Implement Loss Function"
   ]
  },
  {
   "cell_type": "code",
   "execution_count": null,
   "metadata": {},
   "outputs": [],
   "source": [
    "def loss_function(self, reconstructed_img, input_img, mu, log_var, kld_weight=2):\n",
    "    img_loss = F.mse_loss(reconstructed_img, input_img)\n",
    "    # article on calculating kl divergence between 2 gaussians:\n",
    "    # https://medium.com/@outerrencedl/variational-autoencoder-and-a-bit-kl-divergence-with-pytorch-ce04fd55d0d7\n",
    "    kld_loss = torch.mean(\n",
    "        torch.sum(-log_var + (log_var.exp() ** 2 + mu**2) / 2 - 1 / 2)\n",
    "    )\n",
    "    kld_loss *= kld_weight\n",
    "\n",
    "    return img_loss + kld_loss"
   ]
  },
  {
   "cell_type": "markdown",
   "metadata": {},
   "source": [
    "#### Implement Gradient Descent\n"
   ]
  },
  {
   "cell_type": "code",
   "execution_count": null,
   "metadata": {},
   "outputs": [],
   "source": [
    "def gradient_descent(model, loss_func, x, y, xvalid, yvalid, lr=0.1, steps=5000):\n",
    "    optimizer = optim.AdamW(model.parameters(), lr)\n",
    "\n",
    "    losses = []\n",
    "    valid_losses = []\n",
    "    for _ in tqdm.trange(steps):\n",
    "        model.train()\n",
    "        loss = loss_func(model(x), y)\n",
    "        loss.backward()\n",
    "        optimizer.step()\n",
    "        optimizer.zero_grad()\n",
    "\n",
    "        model.eval()\n",
    "        valid_loss = loss_func(model(xvalid), yvalid)\n",
    "        losses.append(loss.detach().numpy())\n",
    "        valid_losses.append(valid_loss.detach().numpy())\n",
    "\n",
    "    print(f\"Final training loss: {losses[-1]}\")\n",
    "\n",
    "    return losses, valid_losses"
   ]
  }
 ],
 "metadata": {
  "kernelspec": {
   "display_name": "NN",
   "language": "python",
   "name": "python3"
  },
  "language_info": {
   "codemirror_mode": {
    "name": "ipython",
    "version": 3
   },
   "file_extension": ".py",
   "mimetype": "text/x-python",
   "name": "python",
   "nbconvert_exporter": "python",
   "pygments_lexer": "ipython3",
   "version": "3.11.4"
  }
 },
 "nbformat": 4,
 "nbformat_minor": 2
}
