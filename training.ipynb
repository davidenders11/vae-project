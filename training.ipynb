{
 "cells": [
  {
   "cell_type": "code",
   "execution_count": 3,
   "metadata": {},
   "outputs": [],
   "source": [
    "import torch\n",
    "import torch.nn as nn\n",
    "import os\n",
    "import matplotlib.image as img\n",
    "from vae import Basic_VAE"
   ]
  },
  {
   "cell_type": "code",
   "execution_count": null,
   "metadata": {},
   "outputs": [],
   "source": [
    "cats = []\n",
    "directory = \"data/cats\"\n",
    "for catpic in os.listdir(directory):\n",
    "    im = img.imread(os.path.join(directory, catpic))\n",
    "    # entirely unsure if the reshape is correct\n",
    "    cats.append(torch.tensor(im).float())\n",
    "    # look at torch permute to get 3x64x64\n",
    "    # need to rescale inputs to be between -1 and 1 instead of 0 and 255\n",
    "print(cats[0].shape)\n",
    "print(cats)"
   ]
  },
  {
   "cell_type": "code",
   "execution_count": null,
   "metadata": {},
   "outputs": [],
   "source": [
    "hidden_dims = [16, 32, 64, 128]\n",
    "latent_dim = 64\n",
    "model = Basic_VAE(64, hidden_dims, latent_dim)"
   ]
  }
 ],
 "metadata": {
  "kernelspec": {
   "display_name": "NN",
   "language": "python",
   "name": "python3"
  },
  "language_info": {
   "codemirror_mode": {
    "name": "ipython",
    "version": 3
   },
   "file_extension": ".py",
   "mimetype": "text/x-python",
   "name": "python",
   "nbconvert_exporter": "python",
   "pygments_lexer": "ipython3",
   "version": "3.11.5"
  }
 },
 "nbformat": 4,
 "nbformat_minor": 2
}
