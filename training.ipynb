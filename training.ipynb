{
 "cells": [
  {
   "cell_type": "code",
   "execution_count": 1,
   "metadata": {},
   "outputs": [],
   "source": [
    "import torch\n",
    "import torch.nn.functional as F\n",
    "from torch import optim\n",
    "import os\n",
    "import matplotlib.image as img\n",
    "import tqdm\n",
    "import matplotlib.pyplot as plt \n",
    "from torch.utils.data import DataLoader, TensorDataset"
   ]
  },
  {
   "cell_type": "markdown",
   "metadata": {},
   "source": [
    "#### Create Dataset\n"
   ]
  },
  {
   "cell_type": "code",
   "execution_count": 2,
   "metadata": {},
   "outputs": [
    {
     "name": "stdout",
     "output_type": "stream",
     "text": [
      "torch.Size([1000, 3, 64, 64])\n"
     ]
    }
   ],
   "source": [
    "cats = []\n",
    "directory = \"data/cats\"\n",
    "count = 0\n",
    "\n",
    "for catpic in os.listdir(directory):\n",
    "    if count < 1000:\n",
    "        # read from image and convert to tensor\n",
    "        im = torch.tensor(img.imread(os.path.join(directory, catpic))).float()\n",
    "        # permute to (channels, height, width) for conv2d layer\n",
    "        im = torch.permute(im, (2, 0, 1))\n",
    "        # normalize to range between -1 and 1\n",
    "        im = im / 128 - 1\n",
    "        cats.append(im)\n",
    "        count += 1\n",
    "    else:\n",
    "        break\n",
    "cats = torch.stack(cats)\n",
    "print(cats.shape)"
   ]
  },
  {
   "cell_type": "markdown",
   "metadata": {},
   "source": [
    "#### Test/Training/Validation Split\n"
   ]
  },
  {
   "cell_type": "code",
   "execution_count": 3,
   "metadata": {},
   "outputs": [
    {
     "name": "stdout",
     "output_type": "stream",
     "text": [
      "torch.Size([600, 3, 64, 64])\n",
      "torch.Size([151, 3, 64, 64])\n",
      "torch.Size([249, 3, 64, 64])\n"
     ]
    }
   ],
   "source": [
    "# Split the data into what we use for testing and not testing\n",
    "training_test_split = 0.75\n",
    "training_test_cutoff = int(cats.shape[0] * training_test_split + 1)\n",
    "random_perm = torch.randperm(cats.shape[0])\n",
    "not_test_tensor = cats[:training_test_cutoff]\n",
    "testing_tensor = cats[training_test_cutoff:]\n",
    "# Split the data into what we use for training and cross validation\n",
    "training_cv_split = 0.8\n",
    "training_cv_cutoff = int(not_test_tensor.shape[0] * training_cv_split)\n",
    "training_tensor = not_test_tensor[:training_cv_cutoff]\n",
    "cv_tensor = not_test_tensor[training_cv_cutoff:]\n",
    "print(training_tensor.shape)\n",
    "print(cv_tensor.shape)\n",
    "print(testing_tensor.shape)"
   ]
  },
  {
   "cell_type": "markdown",
   "metadata": {},
   "source": [
    "#### Choose Hyperparameters and Build Model\n"
   ]
  },
  {
   "cell_type": "code",
   "execution_count": 4,
   "metadata": {},
   "outputs": [],
   "source": [
    "from vae import Basic_VAE\n",
    "\n",
    "hidden_dims = [16, 32, 64, 128]\n",
    "latent_dim = 64\n",
    "in_dim = 3\n",
    "model = Basic_VAE(in_dim, hidden_dims, latent_dim)\n",
    "# encoder = Encoder(in_dim, hidden_dims, latent_dim) for testing\n",
    "# decoder = Decoder(latent_dim, hidden_dims) for testing"
   ]
  },
  {
   "cell_type": "code",
   "execution_count": null,
   "metadata": {},
   "outputs": [],
   "source": []
  },
  {
   "cell_type": "code",
   "execution_count": 5,
   "metadata": {},
   "outputs": [
    {
     "data": {
      "text/plain": [
       "[tensor([[[[-1.0519e-01, -2.0601e-01,  1.8733e-01,  ..., -1.4862e-01,\n",
       "             3.4411e-01,  1.0403e-01],\n",
       "           [-1.8594e-01, -3.9473e-02,  1.7395e-01,  ..., -4.6951e-02,\n",
       "            -4.6615e-03, -1.1211e-01],\n",
       "           [ 1.3822e-01,  3.0605e-01, -3.2770e-02,  ...,  1.0309e-01,\n",
       "            -6.2643e-02,  6.2757e-02],\n",
       "           ...,\n",
       "           [-1.2711e-02, -1.9309e-02,  1.1144e-02,  ..., -3.4796e-02,\n",
       "             7.0722e-02, -1.6648e-02],\n",
       "           [ 1.8912e-02, -1.8820e-01,  3.6173e-01,  ..., -1.8113e-02,\n",
       "             1.0545e-01, -1.8384e-02],\n",
       "           [-5.0009e-02, -7.9707e-02,  7.5033e-02,  ..., -4.3797e-03,\n",
       "             6.9356e-02,  3.0866e-03]],\n",
       " \n",
       "          [[ 1.9168e-01,  6.4747e-02,  1.6298e-01,  ...,  1.9671e-01,\n",
       "            -4.5219e-03,  4.2489e-02],\n",
       "           [ 3.8585e-02, -1.1138e-02, -1.3130e-01,  ...,  1.1713e-01,\n",
       "             6.6325e-02, -1.4727e-02],\n",
       "           [-3.3568e-01,  3.5482e-01, -4.8648e-02,  ...,  1.3830e-01,\n",
       "             3.2094e-01,  9.9090e-02],\n",
       "           ...,\n",
       "           [-1.3194e-01, -1.0754e-01, -5.7607e-02,  ...,  1.5896e-01,\n",
       "            -2.7863e-02,  1.2308e-01],\n",
       "           [ 2.1007e-01,  1.4123e-01, -4.3274e-01,  ..., -4.2081e-02,\n",
       "             5.8492e-02,  1.0045e-01],\n",
       "           [-1.8275e-01,  1.4280e-01, -1.5755e-01,  ...,  8.6920e-02,\n",
       "             4.1469e-02,  2.7216e-02]],\n",
       " \n",
       "          [[-2.2729e-01, -4.7462e-02, -1.0420e-01,  ..., -1.7839e-01,\n",
       "            -1.4421e-01,  5.6097e-02],\n",
       "           [-1.4958e-01,  2.5922e-02, -2.9651e-01,  ..., -1.1184e-01,\n",
       "            -1.2466e-01, -2.8504e-01],\n",
       "           [-5.4294e-01, -3.5597e-01, -4.1866e-01,  ..., -2.2521e-01,\n",
       "            -1.4699e-02,  2.2971e-02],\n",
       "           ...,\n",
       "           [ 6.2423e-02, -1.6801e-01, -5.4751e-01,  ...,  1.2248e-02,\n",
       "             6.0897e-02,  8.4788e-02],\n",
       "           [-1.5204e-01,  2.0532e-01, -6.7732e-01,  ..., -9.8535e-02,\n",
       "            -3.6785e-02,  3.9334e-02],\n",
       "           [ 4.8821e-02, -6.7298e-02,  2.8254e-02,  ..., -1.1939e-02,\n",
       "             1.4684e-01,  1.3375e-01]]],\n",
       " \n",
       " \n",
       "         [[[-5.0554e-02, -7.1605e-01,  6.1431e-01,  ..., -4.4156e-02,\n",
       "            -7.5608e-02,  7.1557e-03],\n",
       "           [-1.6354e-01, -2.6533e-01,  1.7052e-01,  ...,  3.4292e-02,\n",
       "            -5.8108e-02,  1.3686e-01],\n",
       "           [ 1.1394e-01,  5.5486e-01,  4.3949e-02,  ...,  7.3000e-02,\n",
       "            -9.6479e-02,  1.3959e-01],\n",
       "           ...,\n",
       "           [ 1.0595e-01, -2.2500e-01, -2.0075e-01,  ...,  1.7755e-01,\n",
       "             1.4256e-01, -6.3421e-03],\n",
       "           [ 4.5100e-03,  4.3288e-02, -5.4275e-02,  ...,  1.7826e-01,\n",
       "            -2.3644e-03,  8.0342e-02],\n",
       "           [-1.0730e-02, -4.6161e-02, -3.8932e-01,  ...,  3.2351e-02,\n",
       "            -1.6508e-02,  1.1166e-03]],\n",
       " \n",
       "          [[-1.5281e-01,  1.8607e-01, -2.6697e-01,  ...,  1.7186e-01,\n",
       "             1.0090e-01,  6.5186e-02],\n",
       "           [ 1.6545e-01, -6.4659e-02, -2.5420e-01,  ..., -2.1226e-01,\n",
       "             1.6885e-01, -5.5328e-02],\n",
       "           [-4.3089e-01, -2.0741e-01,  8.4538e-01,  ...,  2.8416e-01,\n",
       "            -6.3624e-02,  3.2182e-01],\n",
       "           ...,\n",
       "           [-1.2539e-02,  1.6670e-02, -1.7663e-02,  ..., -1.1120e-02,\n",
       "             6.7856e-02,  1.2968e-01],\n",
       "           [ 6.5680e-02, -2.3870e-01,  3.1555e-01,  ...,  1.1200e-01,\n",
       "             2.0584e-01,  7.9379e-02],\n",
       "           [ 5.9908e-02, -3.1839e-02,  1.8970e-01,  ...,  1.9453e-02,\n",
       "             6.3966e-02, -1.2610e-02]],\n",
       " \n",
       "          [[-4.0678e-01, -5.9325e-01, -6.5097e-01,  ...,  1.4883e-01,\n",
       "            -1.6248e-01,  2.1834e-02],\n",
       "           [-4.5887e-01, -3.6739e-01, -2.8313e-01,  ..., -1.8117e-01,\n",
       "            -1.2878e-02, -1.6915e-01],\n",
       "           [-6.8386e-01, -6.8409e-01, -1.4610e-01,  ..., -5.0257e-02,\n",
       "            -6.4586e-02, -1.7666e-01],\n",
       "           ...,\n",
       "           [-1.5662e-01, -2.4917e-01, -2.9119e-01,  ...,  1.4554e-01,\n",
       "            -9.9687e-02,  9.9893e-02],\n",
       "           [-1.0060e-01, -8.5150e-02, -2.9117e-01,  ..., -2.7620e-01,\n",
       "            -1.4923e-01,  2.6102e-02],\n",
       "           [-1.4888e-01, -2.2096e-01, -2.8376e-02,  ...,  8.5008e-02,\n",
       "             1.0361e-02,  3.8017e-02]]],\n",
       " \n",
       " \n",
       "         [[[-7.5405e-02,  1.7955e-02,  3.6660e-01,  ..., -1.3194e-01,\n",
       "             2.6332e-01, -1.7892e-01],\n",
       "           [ 1.5299e-01,  2.4272e-01,  2.2256e-02,  ..., -2.1579e-01,\n",
       "            -7.2383e-02, -2.2033e-02],\n",
       "           [-1.3153e-01,  1.0889e-01,  2.6118e-01,  ...,  1.0006e-01,\n",
       "             2.3622e-01,  1.1910e-01],\n",
       "           ...,\n",
       "           [ 1.7760e-02,  1.9035e-01,  1.7548e-01,  ...,  1.1046e-01,\n",
       "             6.9389e-02, -1.7534e-02],\n",
       "           [-1.0106e-01,  1.1688e-02,  1.3035e-01,  ...,  4.9422e-02,\n",
       "            -2.9021e-02,  1.4617e-01],\n",
       "           [ 3.0732e-02, -1.3863e-04,  2.4759e-01,  ...,  1.7634e-02,\n",
       "            -2.1165e-03,  8.3541e-03]],\n",
       " \n",
       "          [[-5.3047e-02, -1.8464e-01,  1.2646e-01,  ...,  2.6317e-02,\n",
       "            -2.1104e-02,  2.2683e-02],\n",
       "           [ 2.9407e-02,  5.6127e-02, -7.8988e-02,  ...,  6.6761e-02,\n",
       "             7.3148e-03,  1.9787e-01],\n",
       "           [ 2.9374e-01,  6.9733e-02, -1.1221e-01,  ...,  1.9504e-01,\n",
       "             3.8326e-01,  2.0232e-01],\n",
       "           ...,\n",
       "           [-1.1960e-01,  1.7537e-02, -8.9928e-02,  ...,  2.0216e-02,\n",
       "             1.0864e-01,  1.5525e-01],\n",
       "           [-9.3578e-02,  1.3140e-01, -1.0417e-01,  ...,  1.1534e-01,\n",
       "             1.0460e-01,  5.6208e-02],\n",
       "           [-1.0379e-01,  1.1011e-01, -7.5035e-02,  ...,  5.4408e-02,\n",
       "             1.6883e-02,  6.5469e-02]],\n",
       " \n",
       "          [[-2.5945e-01, -3.8629e-01, -1.2039e-01,  ..., -2.4936e-02,\n",
       "            -1.5244e-01,  5.5789e-02],\n",
       "           [-3.3911e-01, -4.3905e-01, -5.9920e-01,  ..., -7.6570e-02,\n",
       "            -1.9903e-01,  1.1202e-02],\n",
       "           [-3.3223e-01, -5.1962e-01, -1.4634e-01,  ..., -3.2109e-01,\n",
       "            -1.0244e-01,  5.9887e-02],\n",
       "           ...,\n",
       "           [-2.4520e-02, -1.5006e-01, -2.4122e-01,  ...,  2.1769e-01,\n",
       "            -1.1378e-01,  2.5353e-03],\n",
       "           [-4.5891e-02, -2.8954e-01, -3.2605e-01,  ..., -3.3668e-02,\n",
       "             9.7864e-02,  3.6905e-02],\n",
       "           [-8.0575e-02,  5.3924e-02,  1.0255e-01,  ...,  9.3986e-02,\n",
       "            -6.8754e-02,  6.5049e-02]]],\n",
       " \n",
       " \n",
       "         ...,\n",
       " \n",
       " \n",
       "         [[[-3.2164e-02,  5.7391e-01,  3.1206e-01,  ...,  8.8719e-02,\n",
       "             6.4865e-02,  1.2367e-02],\n",
       "           [-1.4939e-01,  3.7482e-01,  4.9393e-01,  ..., -3.5046e-02,\n",
       "            -3.2056e-02,  1.5869e-02],\n",
       "           [ 3.8570e-02, -2.1588e-01,  4.6387e-01,  ...,  1.7984e-01,\n",
       "             1.3107e-01,  1.9279e-01],\n",
       "           ...,\n",
       "           [ 1.8612e-01,  4.0983e-02,  2.3338e-01,  ..., -6.3082e-02,\n",
       "             7.7207e-02, -4.8937e-03],\n",
       "           [ 6.1733e-02, -1.6264e-02,  7.0704e-01,  ..., -3.6704e-02,\n",
       "             1.3139e-01,  2.2267e-02],\n",
       "           [-2.1606e-01, -1.9841e-01,  3.6381e-01,  ..., -5.4322e-02,\n",
       "             1.4043e-03, -5.9078e-02]],\n",
       " \n",
       "          [[ 9.1753e-02, -2.6694e-01, -4.3385e-01,  ...,  1.1884e-01,\n",
       "            -1.4537e-01,  9.3576e-02],\n",
       "           [-8.2055e-02, -3.3334e-01,  1.2847e-01,  ..., -1.2026e-01,\n",
       "            -1.6643e-01,  2.0235e-01],\n",
       "           [ 6.2381e-02, -2.0625e-01, -5.9397e-01,  ...,  1.6385e-01,\n",
       "             5.3919e-01,  3.9262e-01],\n",
       "           ...,\n",
       "           [-3.1780e-01,  2.5979e-01, -3.3883e-01,  ...,  4.7981e-02,\n",
       "             1.0166e-02,  1.6747e-01],\n",
       "           [-3.8678e-01,  1.6142e-01, -1.7887e-01,  ...,  1.8993e-01,\n",
       "            -4.2475e-02,  5.4404e-02],\n",
       "           [-2.0154e-01,  2.3059e-02, -2.5087e-01,  ...,  4.5331e-02,\n",
       "             1.8900e-02,  4.9373e-02]],\n",
       " \n",
       "          [[-1.3738e-01, -1.4740e-02, -1.9846e-01,  ...,  1.0865e-02,\n",
       "            -3.1954e-01, -5.3807e-02],\n",
       "           [-5.4502e-01, -2.3662e-01, -7.1298e-01,  ..., -1.0387e-01,\n",
       "            -2.2291e-01,  2.2329e-01],\n",
       "           [-2.6169e-01, -3.7356e-01, -7.8842e-01,  ..., -3.3175e-01,\n",
       "            -3.6810e-01, -2.5090e-01],\n",
       "           ...,\n",
       "           [-1.8321e-01, -3.3737e-01, -2.2573e-01,  ..., -7.3524e-03,\n",
       "            -1.3917e-01,  6.3210e-02],\n",
       "           [-5.3030e-02, -2.8972e-01, -6.6542e-01,  ...,  1.9333e-01,\n",
       "            -9.0116e-02, -8.8640e-02],\n",
       "           [-2.1356e-01,  1.8697e-01,  7.6261e-03,  ...,  2.4510e-03,\n",
       "             1.9716e-02,  1.0348e-01]]],\n",
       " \n",
       " \n",
       "         [[[-1.2659e-01, -1.0799e-01,  1.0491e-01,  ..., -6.3585e-02,\n",
       "             1.4821e-01,  8.8471e-02],\n",
       "           [ 7.0718e-02, -1.4080e-02,  1.6579e-01,  ..., -1.9171e-02,\n",
       "            -3.3933e-02,  6.7760e-02],\n",
       "           [ 2.4872e-01,  2.5474e-01, -6.8463e-02,  ..., -1.1053e-01,\n",
       "             2.1629e-01, -1.1324e-01],\n",
       "           ...,\n",
       "           [ 3.8395e-01, -6.3472e-02,  2.3264e-01,  ..., -1.2089e-01,\n",
       "             1.5257e-01, -5.6828e-02],\n",
       "           [ 1.3413e-01, -3.2551e-01,  6.6119e-01,  ...,  3.7987e-02,\n",
       "             1.0889e-01, -1.4963e-02],\n",
       "           [-6.6033e-03, -2.5007e-01,  3.8926e-01,  ..., -1.3092e-02,\n",
       "            -2.3047e-02, -2.8012e-02]],\n",
       " \n",
       "          [[ 1.7130e-01, -2.4134e-01,  2.7991e-01,  ...,  2.6375e-01,\n",
       "             1.3068e-01,  4.1399e-02],\n",
       "           [-7.1125e-02,  1.9091e-01, -1.6941e-01,  ...,  2.7844e-01,\n",
       "             1.3351e-01,  8.1752e-02],\n",
       "           [ 1.8551e-01,  5.1211e-02,  1.3698e-01,  ...,  5.6113e-02,\n",
       "             1.2944e-01,  1.2177e-01],\n",
       "           ...,\n",
       "           [-4.0459e-01,  2.6930e-01,  1.9546e-01,  ...,  1.6330e-01,\n",
       "            -1.1818e-02,  1.1666e-01],\n",
       "           [-2.3354e-01,  1.5028e-01, -9.7905e-02,  ...,  7.2470e-02,\n",
       "             1.3568e-01,  1.6097e-01],\n",
       "           [-1.4530e-01, -3.6475e-03, -1.5423e-01,  ...,  7.8403e-02,\n",
       "             1.9181e-02,  4.4046e-02]],\n",
       " \n",
       "          [[-1.9346e-01, -4.8864e-01, -1.4742e-01,  ..., -1.0876e-01,\n",
       "            -5.5336e-02,  7.0810e-02],\n",
       "           [-3.2484e-01, -2.9956e-01, -4.4411e-01,  ...,  1.9140e-02,\n",
       "             9.6378e-03, -7.5266e-02],\n",
       "           [-2.3814e-01, -3.8388e-01, -1.7590e-01,  ...,  4.7212e-02,\n",
       "            -2.8906e-02,  5.3829e-02],\n",
       "           ...,\n",
       "           [-1.5819e-02, -3.8521e-01, -9.4460e-02,  ..., -2.1422e-02,\n",
       "             3.5630e-03,  6.6148e-02],\n",
       "           [-1.3791e-01, -2.5709e-01, -6.7058e-01,  ..., -2.0558e-01,\n",
       "            -5.7052e-02, -1.3768e-02],\n",
       "           [-1.7964e-01, -1.1783e-02,  2.3985e-01,  ...,  2.5301e-02,\n",
       "             1.2064e-01,  7.6012e-02]]],\n",
       " \n",
       " \n",
       "         [[[-1.1923e-01,  3.1473e-01,  2.1170e-02,  ...,  2.0065e-01,\n",
       "             1.2803e-01, -1.1007e-01],\n",
       "           [ 2.8105e-01, -1.0647e-01,  1.7977e-02,  ...,  5.2666e-02,\n",
       "             1.5536e-01, -1.5147e-01],\n",
       "           [ 2.1174e-01, -1.7097e-01,  6.8839e-01,  ...,  2.0932e-01,\n",
       "             2.3159e-01,  1.1383e-02],\n",
       "           ...,\n",
       "           [ 6.2608e-02, -3.0458e-02, -2.9529e-01,  ...,  3.1125e-02,\n",
       "            -1.8880e-01,  2.4686e-02],\n",
       "           [-2.2549e-02,  4.4333e-01,  2.8256e-01,  ...,  3.6738e-02,\n",
       "             1.2820e-02,  7.8218e-02],\n",
       "           [-7.0837e-02,  2.3144e-02, -2.8667e-01,  ..., -3.3447e-02,\n",
       "             1.6893e-02, -1.2094e-02]],\n",
       " \n",
       "          [[ 7.8324e-02,  1.4070e-01, -6.7534e-01,  ..., -6.8617e-02,\n",
       "            -1.1899e-01,  1.3540e-01],\n",
       "           [-1.1364e-01,  2.8599e-01, -6.4689e-01,  ...,  1.9009e-01,\n",
       "            -1.8827e-01,  1.2079e-01],\n",
       "           [-4.3736e-01,  5.1298e-02,  1.5943e-01,  ...,  5.7184e-02,\n",
       "            -2.0377e-01,  3.8730e-01],\n",
       "           ...,\n",
       "           [ 2.3064e-01, -1.4687e-01, -4.4484e-02,  ...,  6.6659e-02,\n",
       "             1.1181e-01,  6.6081e-02],\n",
       "           [-1.8240e-01,  1.0397e-01,  3.4636e-01,  ...,  4.4742e-02,\n",
       "             1.0656e-01,  1.3021e-01],\n",
       "           [ 5.1747e-02,  2.3900e-01, -5.8131e-02,  ...,  3.2305e-02,\n",
       "             3.9159e-02,  6.1330e-02]],\n",
       " \n",
       "          [[-3.9363e-02, -1.0545e-01, -5.2773e-01,  ...,  4.1021e-02,\n",
       "            -1.5224e-01, -1.2758e-01],\n",
       "           [ 6.3763e-02, -6.3766e-02, -3.2161e-01,  ..., -2.4431e-01,\n",
       "            -1.9129e-01,  7.1238e-02],\n",
       "           [-1.0615e-01, -2.2608e-01, -6.5557e-01,  ..., -2.0927e-01,\n",
       "            -1.0596e-01, -1.9128e-01],\n",
       "           ...,\n",
       "           [-3.8720e-01,  6.9059e-03, -6.7820e-01,  ..., -2.2359e-01,\n",
       "            -6.6357e-02,  1.1589e-01],\n",
       "           [-1.9711e-02, -4.4579e-01, -4.2688e-01,  ...,  6.3151e-02,\n",
       "             5.6200e-03, -2.1529e-02],\n",
       "           [-1.8132e-01, -6.6875e-02,  3.5756e-01,  ...,  1.0465e-01,\n",
       "            -3.1620e-02,  6.4261e-02]]]], grad_fn=<TanhBackward0>),\n",
       " tensor([[ 0.4822,  0.1269, -0.3392,  ...,  0.1229, -0.0845,  0.2335],\n",
       "         [-0.0926,  0.1783, -0.1736,  ...,  0.1226, -0.2274,  0.5426],\n",
       "         [-0.3848, -0.0114, -0.5663,  ..., -0.1572, -0.0199,  0.4481],\n",
       "         ...,\n",
       "         [ 0.0261, -0.0698, -0.1541,  ..., -0.2988, -0.2553,  0.2768],\n",
       "         [ 0.6806, -0.1775, -0.4656,  ...,  0.2370,  0.0976,  0.0686],\n",
       "         [-0.1558, -0.5265, -0.5291,  ..., -0.1929, -0.2609,  0.3629]],\n",
       "        grad_fn=<AddmmBackward0>),\n",
       " tensor([[-0.0375, -0.0505,  0.3023,  ..., -0.3244,  0.3266,  0.4875],\n",
       "         [-0.2083, -0.0653,  0.6653,  ..., -0.4723,  0.2500,  0.5201],\n",
       "         [-0.0986, -0.0634,  0.9567,  ..., -0.7394, -0.0057,  0.1400],\n",
       "         ...,\n",
       "         [ 0.1187,  0.1149,  0.2165,  ..., -0.3116,  0.0839,  0.4492],\n",
       "         [-0.0705,  0.4890,  0.2857,  ..., -0.5096, -0.0381, -0.2646],\n",
       "         [-0.1164,  0.1195,  0.4333,  ..., -1.1265,  0.0805,  0.0107]],\n",
       "        grad_fn=<AddmmBackward0>)]"
      ]
     },
     "execution_count": 5,
     "metadata": {},
     "output_type": "execute_result"
    }
   ],
   "source": [
    "# # Testing the model\n",
    "model.forward(training_tensor)\n",
    "# # Code to test out the encoder & decoder\n",
    "# mu, log_var = encoder.forward(training_tensor)\n",
    "# print(\"mu: \", mu.shape)\n",
    "# print(\"log_var: \", log_var.shape)\n",
    "\n",
    "# reconstructed_img = decoder.forward(mu, log_var)"
   ]
  },
  {
   "cell_type": "markdown",
   "metadata": {},
   "source": [
    "#### Implement Loss Function\n"
   ]
  },
  {
   "cell_type": "code",
   "execution_count": 6,
   "metadata": {},
   "outputs": [],
   "source": [
    "def loss_function(reconstructed_img, input_img, mu, log_var, kld_weight=0.001):\n",
    "    # print(\"reconstructed_img: \", reconstructed_img.shape)\n",
    "    # print(\"input_img: \", input_img.shape)\n",
    "    img_loss = F.mse_loss(reconstructed_img, input_img)\n",
    "    # article on calculating kl divergence between 2 gaussians:\n",
    "    # https://medium.com/@outerrencedl/variational-autoencoder-and-a-bit-kl-divergence-with-pytorch-ce04fd55d0d7\n",
    "    kld_loss = torch.mean(\n",
    "        torch.sum(-log_var + (log_var.exp() ** 2 + mu**2) / 2 - 1 / 2)\n",
    "        \n",
    "    )\n",
    "    # kld_loss = torch.mean(-0.5 * torch.sum(1 + log_var - mu.pow(2) - log_var.exp()))\n",
    "    kld_loss *= kld_weight\n",
    "\n",
    "    return img_loss + kld_loss"
   ]
  },
  {
   "cell_type": "markdown",
   "metadata": {},
   "source": [
    "#### Implement Gradient Descent\n"
   ]
  },
  {
   "cell_type": "code",
   "execution_count": 7,
   "metadata": {},
   "outputs": [],
   "source": [
    "def gradient_descent(model, loss_func, x, y, xvalid, yvalid, lr=0.1, steps=5000, batch_size=32):\n",
    "    # only really need x or y, they are the same thing\n",
    "    optimizer = optim.AdamW(model.parameters(), lr)\n",
    "\n",
    "    losses = []\n",
    "    valid_losses = []\n",
    "\n",
    "    train_dataset = TensorDataset(x, y)\n",
    "    train_batches = DataLoader(train_dataset, batch_size=batch_size, shuffle=True)\n",
    "\n",
    "    valid_dataset = TensorDataset(xvalid, yvalid)\n",
    "    valid_batches = DataLoader(valid_dataset, batch_size=batch_size, shuffle=False)\n",
    "\n",
    "    for _ in tqdm.trange(steps):\n",
    "        model.train()\n",
    "        total_loss = 0\n",
    "\n",
    "        for input_batch, label_batch in train_batches:\n",
    "            reconstructed_img, mu, log_var = model(input_batch)\n",
    "            # y is the original image I think? yeah\n",
    "            loss = loss_func(reconstructed_img, label_batch, mu, log_var)\n",
    "            loss.backward()\n",
    "            optimizer.step()\n",
    "            total_loss += loss.item()\n",
    "            optimizer.zero_grad()\n",
    "        mean_loss = total_loss/len(train_batches)\n",
    "        losses.append(mean_loss)\n",
    "\n",
    "        model.eval()\n",
    "        total_valid_loss = 0\n",
    "        for input_valid_batch, label_valid_batch in valid_batches:\n",
    "            reconstructed_img, mu, log_var = model(input_valid_batch)\n",
    "            valid_loss = loss_func(reconstructed_img, label_valid_batch, mu, log_var)\n",
    "            total_valid_loss += valid_loss.detach()\n",
    "        mean_valid_loss = total_valid_loss/len(valid_batches)\n",
    "        valid_losses.append(mean_valid_loss)\n",
    "\n",
    "    print(f\"Final training loss: {losses[-1]}\")\n",
    "\n",
    "    return losses, valid_losses"
   ]
  },
  {
   "cell_type": "code",
   "execution_count": 8,
   "metadata": {},
   "outputs": [
    {
     "name": "stderr",
     "output_type": "stream",
     "text": [
      "100%|██████████| 100/100 [02:34<00:00,  1.54s/it]"
     ]
    },
    {
     "name": "stdout",
     "output_type": "stream",
     "text": [
      "Final training loss: 0.2249150448723843\n"
     ]
    },
    {
     "name": "stderr",
     "output_type": "stream",
     "text": [
      "\n"
     ]
    }
   ],
   "source": [
    "losses, valid_losses = gradient_descent(\n",
    "    model, loss_function, training_tensor, training_tensor, cv_tensor, cv_tensor, steps=100, lr = 0.001\n",
    ")"
   ]
  },
  {
   "cell_type": "code",
   "execution_count": null,
   "metadata": {},
   "outputs": [],
   "source": [
    "torch.save(model.state_dict(), \"saved_model\")"
   ]
  },
  {
   "cell_type": "code",
   "execution_count": 19,
   "metadata": {},
   "outputs": [
    {
     "ename": "RuntimeError",
     "evalue": "Error(s) in loading state_dict for Basic_VAE:\n\tMissing key(s) in state_dict: \"decoder.decoder.3.0.weight\", \"decoder.decoder.3.0.bias\". \n\tUnexpected key(s) in state_dict: \"decoder.decoder.4.weight\", \"decoder.decoder.4.bias\", \"decoder.decoder.4.running_mean\", \"decoder.decoder.4.running_var\", \"decoder.decoder.4.num_batches_tracked\", \"decoder.decoder.5.weight\", \"decoder.decoder.5.bias\", \"decoder.decoder.6.weight\", \"decoder.decoder.6.bias\", \"decoder.decoder.6.running_mean\", \"decoder.decoder.6.running_var\", \"decoder.decoder.6.num_batches_tracked\", \"decoder.decoder.7.0.weight\", \"decoder.decoder.7.0.bias\", \"decoder.decoder.3.weight\", \"decoder.decoder.3.bias\". ",
     "output_type": "error",
     "traceback": [
      "\u001b[1;31m---------------------------------------------------------------------------\u001b[0m",
      "\u001b[1;31mRuntimeError\u001b[0m                              Traceback (most recent call last)",
      "Cell \u001b[1;32mIn[19], line 1\u001b[0m\n\u001b[1;32m----> 1\u001b[0m \u001b[43mmodel\u001b[49m\u001b[38;5;241;43m.\u001b[39;49m\u001b[43mload_state_dict\u001b[49m\u001b[43m(\u001b[49m\u001b[43mtorch\u001b[49m\u001b[38;5;241;43m.\u001b[39;49m\u001b[43mload\u001b[49m\u001b[43m(\u001b[49m\u001b[38;5;124;43m'\u001b[39;49m\u001b[38;5;124;43msaved_model\u001b[39;49m\u001b[38;5;124;43m'\u001b[39;49m\u001b[43m)\u001b[49m\u001b[43m)\u001b[49m\n",
      "File \u001b[1;32mc:\\Python311\\Lib\\site-packages\\torch\\nn\\modules\\module.py:2152\u001b[0m, in \u001b[0;36mModule.load_state_dict\u001b[1;34m(self, state_dict, strict, assign)\u001b[0m\n\u001b[0;32m   2147\u001b[0m         error_msgs\u001b[38;5;241m.\u001b[39minsert(\n\u001b[0;32m   2148\u001b[0m             \u001b[38;5;241m0\u001b[39m, \u001b[38;5;124m'\u001b[39m\u001b[38;5;124mMissing key(s) in state_dict: \u001b[39m\u001b[38;5;132;01m{}\u001b[39;00m\u001b[38;5;124m. \u001b[39m\u001b[38;5;124m'\u001b[39m\u001b[38;5;241m.\u001b[39mformat(\n\u001b[0;32m   2149\u001b[0m                 \u001b[38;5;124m'\u001b[39m\u001b[38;5;124m, \u001b[39m\u001b[38;5;124m'\u001b[39m\u001b[38;5;241m.\u001b[39mjoin(\u001b[38;5;124mf\u001b[39m\u001b[38;5;124m'\u001b[39m\u001b[38;5;124m\"\u001b[39m\u001b[38;5;132;01m{\u001b[39;00mk\u001b[38;5;132;01m}\u001b[39;00m\u001b[38;5;124m\"\u001b[39m\u001b[38;5;124m'\u001b[39m \u001b[38;5;28;01mfor\u001b[39;00m k \u001b[38;5;129;01min\u001b[39;00m missing_keys)))\n\u001b[0;32m   2151\u001b[0m \u001b[38;5;28;01mif\u001b[39;00m \u001b[38;5;28mlen\u001b[39m(error_msgs) \u001b[38;5;241m>\u001b[39m \u001b[38;5;241m0\u001b[39m:\n\u001b[1;32m-> 2152\u001b[0m     \u001b[38;5;28;01mraise\u001b[39;00m \u001b[38;5;167;01mRuntimeError\u001b[39;00m(\u001b[38;5;124m'\u001b[39m\u001b[38;5;124mError(s) in loading state_dict for \u001b[39m\u001b[38;5;132;01m{}\u001b[39;00m\u001b[38;5;124m:\u001b[39m\u001b[38;5;130;01m\\n\u001b[39;00m\u001b[38;5;130;01m\\t\u001b[39;00m\u001b[38;5;132;01m{}\u001b[39;00m\u001b[38;5;124m'\u001b[39m\u001b[38;5;241m.\u001b[39mformat(\n\u001b[0;32m   2153\u001b[0m                        \u001b[38;5;28mself\u001b[39m\u001b[38;5;241m.\u001b[39m\u001b[38;5;18m__class__\u001b[39m\u001b[38;5;241m.\u001b[39m\u001b[38;5;18m__name__\u001b[39m, \u001b[38;5;124m\"\u001b[39m\u001b[38;5;130;01m\\n\u001b[39;00m\u001b[38;5;130;01m\\t\u001b[39;00m\u001b[38;5;124m\"\u001b[39m\u001b[38;5;241m.\u001b[39mjoin(error_msgs)))\n\u001b[0;32m   2154\u001b[0m \u001b[38;5;28;01mreturn\u001b[39;00m _IncompatibleKeys(missing_keys, unexpected_keys)\n",
      "\u001b[1;31mRuntimeError\u001b[0m: Error(s) in loading state_dict for Basic_VAE:\n\tMissing key(s) in state_dict: \"decoder.decoder.3.0.weight\", \"decoder.decoder.3.0.bias\". \n\tUnexpected key(s) in state_dict: \"decoder.decoder.4.weight\", \"decoder.decoder.4.bias\", \"decoder.decoder.4.running_mean\", \"decoder.decoder.4.running_var\", \"decoder.decoder.4.num_batches_tracked\", \"decoder.decoder.5.weight\", \"decoder.decoder.5.bias\", \"decoder.decoder.6.weight\", \"decoder.decoder.6.bias\", \"decoder.decoder.6.running_mean\", \"decoder.decoder.6.running_var\", \"decoder.decoder.6.num_batches_tracked\", \"decoder.decoder.7.0.weight\", \"decoder.decoder.7.0.bias\", \"decoder.decoder.3.weight\", \"decoder.decoder.3.bias\". "
     ]
    }
   ],
   "source": [
    "model.load_state_dict(torch.load('saved_model'))"
   ]
  },
  {
   "cell_type": "code",
   "execution_count": 21,
   "metadata": {},
   "outputs": [
    {
     "name": "stderr",
     "output_type": "stream",
     "text": [
      "Clipping input data to the valid range for imshow with RGB data ([0..1] for floats or [0..255] for integers).\n"
     ]
    },
    {
     "name": "stdout",
     "output_type": "stream",
     "text": [
      "torch.Size([1, 64])\n"
     ]
    },
    {
     "data": {
      "text/plain": [
       "<matplotlib.image.AxesImage at 0x1f009d99b90>"
      ]
     },
     "execution_count": 21,
     "metadata": {},
     "output_type": "execute_result"
    },
    {
     "data": {
      "image/png": "[encoded data removed]",
      "text/plain": [
       "<Figure size 640x480 with 1 Axes>"
      ]
     },
     "metadata": {},
     "output_type": "display_data"
    }
   ],
   "source": [
    "# after we've trained, we use the decoder to generate new images\n",
    "# we assume a normal distribution over our latent space\n",
    "# so we sample from that distribution and feed it into the decoder\n",
    "img = model.sample_img()\n",
    "img = img.view(64, 64, 3)\n",
    "img = img.detach().numpy()\n",
    "plt.imshow(img)"
   ]
  },
  {
   "cell_type": "code",
   "execution_count": 12,
   "metadata": {},
   "outputs": [
    {
     "name": "stdout",
     "output_type": "stream",
     "text": [
      "torch.Size([1, 3, 64, 64])\n"
     ]
    },
    {
     "data": {
      "text/plain": [
       "<matplotlib.image.AxesImage at 0x1f008944890>"
      ]
     },
     "execution_count": 12,
     "metadata": {},
     "output_type": "execute_result"
    },
    {
     "data": {
      "image/png": "[encoded data removed]",
      "text/plain": [
       "<Figure size 640x480 with 1 Axes>"
      ]
     },
     "metadata": {},
     "output_type": "display_data"
    }
   ],
   "source": [
    "import cv2\n",
    "\n",
    "img = cv2.imread(\"data/cats/1.jpg\")\n",
    "img = torch.from_numpy(img).float()\n",
    "img = img.view(1, 3, 64, 64)\n",
    "print(img.shape)\n",
    "rec_img = model.forward(img)[0]\n",
    "rec_img = rec_img.view(64, 64, 3)\n",
    "rec_img = rec_img.detach().numpy()\n",
    "plt.imshow(rec_img)"
   ]
  },
  {
   "cell_type": "code",
   "execution_count": null,
   "metadata": {},
   "outputs": [],
   "source": [
    "# model3000 = model"
   ]
  }
 ],
 "metadata": {
  "kernelspec": {
   "display_name": "NN",
   "language": "python",
   "name": "python3"
  },
  "language_info": {
   "codemirror_mode": {
    "name": "ipython",
    "version": 3
   },
   "file_extension": ".py",
   "mimetype": "text/x-python",
   "name": "python",
   "nbconvert_exporter": "python",
   "pygments_lexer": "ipython3",
   "version": "3.11.4"
  }
 },
 "nbformat": 4,
 "nbformat_minor": 2
}
