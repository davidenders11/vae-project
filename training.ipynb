{
 "cells": [
  {
   "cell_type": "code",
   "execution_count": 1,
   "metadata": {},
   "outputs": [],
   "source": [
    "import torch\n",
    "import torch.nn as nn\n",
    "import torch.nn.functional as F\n",
    "from torch import optim\n",
    "import os\n",
    "import matplotlib.image as img\n",
    "import tqdm\n",
    "import matplotlib.pyplot as plt \n",
    "from vae import Basic_VAE\n",
    "from encoder import Encoder\n",
    "from decoder import Decoder\n",
    "from torch.utils.data import DataLoader, TensorDataset"
   ]
  },
  {
   "cell_type": "markdown",
   "metadata": {},
   "source": [
    "#### Create Dataset\n"
   ]
  },
  {
   "cell_type": "code",
   "execution_count": 2,
   "metadata": {},
   "outputs": [
    {
     "name": "stdout",
     "output_type": "stream",
     "text": [
      "torch.Size([1000, 3, 64, 64])\n"
     ]
    }
   ],
   "source": [
    "cats = []\n",
    "directory = \"data/cats\"\n",
    "count = 0\n",
    "\n",
    "for catpic in os.listdir(directory):\n",
    "    if count < 1000:\n",
    "        # read from image and convert to tensor\n",
    "        im = torch.tensor(img.imread(os.path.join(directory, catpic))).float()\n",
    "        # permute to (channels, height, width) for conv2d layer\n",
    "        im = torch.permute(im, (2, 0, 1))\n",
    "        # normalize to range between -1 and 1\n",
    "        im = im / 128 - 1\n",
    "        cats.append(im)\n",
    "        count += 1\n",
    "    else:\n",
    "        break\n",
    "cats = torch.stack(cats)\n",
    "print(cats.shape)"
   ]
  },
  {
   "cell_type": "markdown",
   "metadata": {},
   "source": [
    "#### Test/Training/Validation Split\n"
   ]
  },
  {
   "cell_type": "code",
   "execution_count": 3,
   "metadata": {},
   "outputs": [
    {
     "name": "stdout",
     "output_type": "stream",
     "text": [
      "torch.Size([600, 3, 64, 64])\n",
      "torch.Size([151, 3, 64, 64])\n",
      "torch.Size([249, 3, 64, 64])\n"
     ]
    }
   ],
   "source": [
    "# Split the data into what we use for testing and not testing\n",
    "training_test_split = 0.75\n",
    "training_test_cutoff = int(cats.shape[0] * training_test_split + 1)\n",
    "random_perm = torch.randperm(cats.shape[0])\n",
    "not_test_tensor = cats[:training_test_cutoff]\n",
    "testing_tensor = cats[training_test_cutoff:]\n",
    "# Split the data into what we use for training and cross validation\n",
    "training_cv_split = 0.8\n",
    "training_cv_cutoff = int(not_test_tensor.shape[0] * training_cv_split)\n",
    "training_tensor = not_test_tensor[:training_cv_cutoff]\n",
    "cv_tensor = not_test_tensor[training_cv_cutoff:]\n",
    "print(training_tensor.shape)\n",
    "print(cv_tensor.shape)\n",
    "print(testing_tensor.shape)"
   ]
  },
  {
   "cell_type": "markdown",
   "metadata": {},
   "source": [
    "#### Choose Hyperparameters and Build Model\n"
   ]
  },
  {
   "cell_type": "code",
   "execution_count": 4,
   "metadata": {},
   "outputs": [],
   "source": [
    "from vae import Basic_VAE\n",
    "\n",
    "hidden_dims = [16, 32, 64, 128]\n",
    "latent_dim = 64\n",
    "in_dim = 3\n",
    "model = Basic_VAE(in_dim, hidden_dims, latent_dim)\n",
    "# encoder = Encoder(in_dim, hidden_dims, latent_dim) for testing\n",
    "# decoder = Decoder(latent_dim, hidden_dims) for testing"
   ]
  },
  {
   "cell_type": "code",
   "execution_count": 7,
   "metadata": {},
   "outputs": [
    {
     "data": {
      "text/plain": [
       "[tensor([[[[ 1.4794e-01, -5.5027e-01, -1.6522e-01,  ..., -1.8013e-01,\n",
       "            -3.4475e-01, -1.2042e-01],\n",
       "           [-5.3157e-01,  7.6096e-01,  7.0085e-01,  ...,  1.3680e-01,\n",
       "             3.3449e-01, -6.0345e-01],\n",
       "           [ 1.2834e-01,  1.8625e-01, -1.9629e-01,  ..., -5.0953e-01,\n",
       "            -7.8324e-01,  4.7019e-01],\n",
       "           ...,\n",
       "           [-2.2373e-01, -6.1128e-01,  2.8522e-01,  ..., -3.7343e-01,\n",
       "             7.8883e-02, -2.3463e-01],\n",
       "           [-5.9115e-02,  1.9871e-01,  5.4364e-01,  ..., -2.2847e-01,\n",
       "             2.0574e-01, -2.0261e-01],\n",
       "           [-2.6807e-01, -2.5620e-01, -3.9362e-01,  ..., -7.4707e-02,\n",
       "             3.5775e-01, -8.4257e-02]],\n",
       " \n",
       "          [[-6.3492e-02, -1.0382e-01, -1.3608e-01,  ..., -4.1715e-01,\n",
       "             4.2429e-01, -1.3828e-01],\n",
       "           [-5.4051e-01,  5.5403e-01, -3.6123e-01,  ..., -5.5715e-01,\n",
       "             8.5589e-01, -4.3946e-02],\n",
       "           [-5.6086e-01,  1.5324e-01,  2.2126e-01,  ..., -4.8755e-02,\n",
       "             3.4364e-02,  1.1861e-01],\n",
       "           ...,\n",
       "           [-9.8813e-02, -2.7712e-01,  1.5169e-01,  ...,  5.6662e-02,\n",
       "             1.1233e-01, -8.5791e-02],\n",
       "           [-1.6989e-01,  1.8362e-01, -7.2686e-02,  ...,  5.9006e-02,\n",
       "            -4.6960e-02,  1.5118e-01],\n",
       "           [-1.4697e-01,  9.9959e-02, -3.5937e-01,  ..., -1.8943e-01,\n",
       "            -3.2223e-01, -3.5692e-01]],\n",
       " \n",
       "          [[ 1.5258e-01, -2.3329e-01,  3.2963e-01,  ...,  4.4283e-01,\n",
       "            -4.8764e-01,  2.4538e-01],\n",
       "           [ 2.8690e-01, -5.9984e-01,  5.2684e-01,  ...,  2.0791e-01,\n",
       "             3.4690e-01,  2.6597e-01],\n",
       "           [ 3.5466e-01,  6.6566e-01,  7.4566e-01,  ...,  8.0681e-01,\n",
       "             5.7439e-01,  4.4598e-01],\n",
       "           ...,\n",
       "           [ 6.3338e-02,  2.4383e-01,  3.6837e-02,  ..., -5.1347e-01,\n",
       "             3.3558e-01, -1.8193e-02],\n",
       "           [ 1.8730e-01,  9.3620e-02,  6.6124e-01,  ..., -2.4271e-01,\n",
       "            -5.6815e-02,  7.9238e-02],\n",
       "           [-4.5163e-02, -8.1748e-02,  2.5247e-02,  ...,  4.9807e-01,\n",
       "            -5.8258e-02, -4.8683e-02]]],\n",
       " \n",
       " \n",
       "         [[[-4.7032e-02, -1.6154e-01, -2.4709e-01,  ..., -1.6587e-02,\n",
       "            -1.5546e-01, -2.1131e-01],\n",
       "           [ 9.8699e-02,  5.9618e-01,  7.7226e-02,  ...,  1.1478e-01,\n",
       "             2.3035e-01,  1.0409e-01],\n",
       "           [ 3.3662e-01,  8.2113e-01, -8.8982e-01,  ...,  3.6627e-01,\n",
       "            -4.4101e-01,  3.8492e-01],\n",
       "           ...,\n",
       "           [ 1.8052e-01, -3.9237e-01, -2.4116e-01,  ..., -2.6095e-01,\n",
       "             2.9366e-02, -2.8613e-01],\n",
       "           [ 9.5039e-02, -2.5285e-01,  3.3446e-01,  ...,  1.4447e-01,\n",
       "             4.7077e-02, -1.6706e-01],\n",
       "           [-5.5174e-02, -6.3637e-02, -1.4953e-01,  ..., -3.8566e-01,\n",
       "            -3.0986e-01, -2.5024e-01]],\n",
       " \n",
       "          [[-1.1867e-01, -7.0210e-02,  5.2135e-01,  ..., -2.0286e-01,\n",
       "            -3.4861e-01,  7.1053e-02],\n",
       "           [-3.8521e-02,  4.5300e-01,  4.4399e-02,  ..., -2.5516e-01,\n",
       "             5.7428e-01,  1.1981e-01],\n",
       "           [-7.8607e-02,  3.0685e-01, -5.0360e-01,  ...,  1.1787e-02,\n",
       "            -3.0561e-01,  1.9133e-01],\n",
       "           ...,\n",
       "           [ 2.7976e-02, -1.8349e-01, -1.8710e-01,  ..., -7.0109e-02,\n",
       "            -2.4863e-02, -5.2500e-02],\n",
       "           [ 1.6623e-01, -2.8660e-01, -3.6756e-02,  ...,  2.7423e-01,\n",
       "            -9.9237e-02,  5.1263e-02],\n",
       "           [ 3.6273e-02, -9.9342e-02, -2.8035e-01,  ...,  7.0645e-02,\n",
       "             4.5223e-02, -5.4478e-02]],\n",
       " \n",
       "          [[-1.2333e-01,  3.5640e-01, -3.4919e-01,  ...,  1.8440e-01,\n",
       "            -7.3751e-02, -8.6965e-02],\n",
       "           [-7.7518e-02,  6.3291e-01,  9.4613e-01,  ...,  5.2771e-01,\n",
       "            -1.6325e-03,  1.3740e-01],\n",
       "           [ 6.6653e-01,  8.6337e-01, -7.9273e-01,  ..., -1.0178e-01,\n",
       "             1.1221e-01,  1.8908e-01],\n",
       "           ...,\n",
       "           [ 6.3980e-04,  3.2764e-01,  1.6048e-01,  ...,  1.5125e-01,\n",
       "            -5.1587e-02,  1.9851e-02],\n",
       "           [-1.0893e-01,  9.1454e-02, -1.4684e-01,  ...,  1.1831e-01,\n",
       "             1.5745e-01,  1.2219e-01],\n",
       "           [ 3.5425e-01,  2.7345e-01,  6.7898e-02,  ...,  8.4423e-02,\n",
       "             2.7773e-01, -7.0790e-03]]],\n",
       " \n",
       " \n",
       "         [[[ 2.3593e-02,  3.8119e-01, -3.6506e-01,  ...,  1.8541e-01,\n",
       "             8.4234e-02, -1.6493e-01],\n",
       "           [-5.4319e-02, -6.3623e-01,  6.2373e-01,  ...,  4.9247e-01,\n",
       "             3.9812e-01,  3.5262e-02],\n",
       "           [ 3.3300e-01,  3.3008e-01, -7.6191e-01,  ...,  7.2972e-01,\n",
       "             3.7692e-01,  9.4045e-02],\n",
       "           ...,\n",
       "           [ 2.2916e-01, -6.6020e-01, -1.4688e-01,  ..., -2.5879e-01,\n",
       "             5.0538e-02, -1.0216e-01],\n",
       "           [-1.2362e-01, -3.6056e-02, -5.1449e-01,  ..., -2.9123e-01,\n",
       "             2.3849e-01,  5.7911e-03],\n",
       "           [ 7.6756e-02,  2.0077e-02, -3.2284e-01,  ..., -1.4396e-04,\n",
       "            -7.9106e-02,  1.1961e-01]],\n",
       " \n",
       "          [[-2.4040e-01, -3.5010e-01, -1.0860e-01,  ..., -2.3392e-01,\n",
       "            -5.1059e-01, -5.4510e-02],\n",
       "           [ 3.7823e-02,  5.1208e-01,  1.0766e-01,  ..., -1.9502e-02,\n",
       "             6.8432e-02, -1.4526e-01],\n",
       "           [-5.4653e-01,  3.4349e-01, -2.2763e-01,  ..., -5.4947e-01,\n",
       "            -2.3525e-01,  4.9578e-02],\n",
       "           ...,\n",
       "           [ 1.4490e-01, -1.5300e-01,  8.0735e-02,  ..., -4.0462e-03,\n",
       "             1.5957e-01, -1.1891e-01],\n",
       "           [ 6.7478e-02, -2.8209e-02, -9.0980e-03,  ...,  6.3273e-02,\n",
       "             5.6161e-02, -8.3171e-02],\n",
       "           [-5.0899e-03, -2.8746e-01, -2.3028e-01,  ..., -4.7345e-02,\n",
       "            -2.5018e-01, -7.1207e-02]],\n",
       " \n",
       "          [[ 1.9039e-01,  2.7888e-01, -9.8293e-02,  ..., -2.5507e-01,\n",
       "            -1.7142e-01,  3.6064e-02],\n",
       "           [ 9.8784e-02, -1.4108e-01,  8.4581e-01,  ..., -4.0915e-01,\n",
       "             2.2423e-01,  2.9877e-01],\n",
       "           [ 5.8196e-01, -2.2662e-01,  4.7820e-01,  ..., -6.8816e-01,\n",
       "            -3.4695e-01,  4.8164e-01],\n",
       "           ...,\n",
       "           [ 1.9809e-01,  3.2572e-02, -2.2552e-01,  ...,  1.2097e-01,\n",
       "             2.8116e-02, -1.2209e-01],\n",
       "           [-9.2209e-02,  4.6765e-01, -4.6054e-01,  ..., -1.4117e-01,\n",
       "             1.2856e-01,  1.2449e-01],\n",
       "           [ 2.6138e-01, -2.4718e-02,  1.1848e-01,  ...,  1.6565e-01,\n",
       "            -3.4496e-02,  1.0708e-01]]],\n",
       " \n",
       " \n",
       "         ...,\n",
       " \n",
       " \n",
       "         [[[ 3.1423e-01, -2.8746e-02,  8.4604e-01,  ..., -1.9934e-01,\n",
       "            -2.8646e-01,  2.1755e-01],\n",
       "           [-2.2337e-01,  1.3602e-01, -3.4679e-01,  ...,  5.0902e-01,\n",
       "             1.0074e-01,  7.3838e-01],\n",
       "           [ 4.6280e-01,  4.7071e-01, -7.3425e-01,  ..., -2.8874e-01,\n",
       "             3.3601e-01,  2.9110e-01],\n",
       "           ...,\n",
       "           [-2.1115e-01,  5.4133e-01,  7.0855e-01,  ..., -3.7693e-02,\n",
       "             3.7740e-02, -1.6518e-01],\n",
       "           [ 2.4187e-01, -7.7301e-01,  2.5815e-02,  ..., -1.3588e-01,\n",
       "             2.6969e-01, -8.3320e-02],\n",
       "           [ 1.3905e-01, -2.7476e-01,  3.0091e-02,  ..., -2.8792e-01,\n",
       "            -2.3667e-01,  5.1637e-02]],\n",
       " \n",
       "          [[ 3.3485e-01,  3.0751e-01, -7.3727e-01,  ...,  2.0990e-01,\n",
       "            -3.0795e-01,  1.7399e-01],\n",
       "           [-6.3899e-01,  7.2569e-01, -7.4976e-01,  ..., -3.0309e-01,\n",
       "            -3.3094e-01, -2.8020e-02],\n",
       "           [ 3.2513e-01,  2.4424e-01, -1.3091e-02,  ..., -2.9706e-01,\n",
       "             3.5702e-01, -1.9359e-01],\n",
       "           ...,\n",
       "           [-1.4352e-01, -7.9061e-01,  4.5148e-01,  ..., -1.5697e-01,\n",
       "            -1.5271e-01,  6.2583e-02],\n",
       "           [ 5.4585e-02, -6.6910e-01,  2.4890e-01,  ..., -1.1250e-01,\n",
       "            -1.8003e-01, -1.5341e-01],\n",
       "           [ 1.8350e-01,  7.3374e-02,  1.4958e-01,  ..., -1.0655e-01,\n",
       "            -2.2189e-01, -1.2081e-01]],\n",
       " \n",
       "          [[ 3.1583e-01,  1.6218e-01,  8.7087e-01,  ..., -1.9088e-01,\n",
       "             2.0081e-01, -2.3982e-01],\n",
       "           [ 3.0766e-01, -6.0462e-01,  9.4599e-01,  ..., -1.9886e-02,\n",
       "            -2.6160e-01,  2.0232e-01],\n",
       "           [-4.4008e-01,  9.0210e-01,  8.2837e-01,  ..., -1.0942e-02,\n",
       "             2.2169e-01,  2.0473e-01],\n",
       "           ...,\n",
       "           [ 3.2107e-01,  7.2309e-01, -1.7855e-02,  ...,  1.5871e-01,\n",
       "             1.1337e-01,  7.3664e-02],\n",
       "           [-2.6649e-01,  3.1363e-01, -7.4852e-02,  ...,  9.4774e-02,\n",
       "            -1.5573e-01,  2.2939e-01],\n",
       "           [ 5.2133e-02,  2.5809e-02,  2.0522e-01,  ..., -1.4808e-01,\n",
       "             2.9006e-02,  4.0110e-02]]],\n",
       " \n",
       " \n",
       "         [[[ 3.2169e-01,  9.7675e-02,  2.3869e-01,  ..., -1.0808e-01,\n",
       "             9.2396e-02, -1.2832e-01],\n",
       "           [ 2.5166e-02,  1.6132e-01,  9.4315e-01,  ..., -4.3739e-01,\n",
       "            -5.2974e-01,  5.0343e-01],\n",
       "           [-4.6794e-01,  7.9459e-01,  4.8191e-01,  ...,  5.9248e-02,\n",
       "            -8.3036e-01,  1.9353e-01],\n",
       "           ...,\n",
       "           [-8.7509e-02, -4.7676e-01,  3.2053e-01,  ...,  1.0258e-01,\n",
       "             7.2352e-02,  2.5922e-02],\n",
       "           [-1.1265e-01, -1.1704e-01,  3.2737e-01,  ..., -2.3119e-01,\n",
       "             5.0651e-02,  8.3056e-02],\n",
       "           [-1.4039e-01, -6.0979e-01, -3.4864e-01,  ...,  1.5244e-01,\n",
       "             2.6414e-01,  1.5773e-01]],\n",
       " \n",
       "          [[-1.7028e-01, -3.8646e-01, -5.2292e-01,  ..., -1.0255e-01,\n",
       "             1.4905e-01, -3.9244e-02],\n",
       "           [-7.3868e-01, -3.6857e-01, -5.9374e-01,  ..., -1.6720e-02,\n",
       "             1.0287e-01, -2.5640e-01],\n",
       "           [ 3.2582e-01,  1.7201e-02, -5.8076e-01,  ...,  1.7951e-01,\n",
       "             1.4576e-02, -1.6169e-01],\n",
       "           ...,\n",
       "           [ 8.9874e-02, -1.6975e-02,  7.2583e-02,  ...,  2.5551e-02,\n",
       "            -1.0648e-01, -6.0767e-02],\n",
       "           [-3.3396e-02,  1.2340e-01,  3.5210e-02,  ...,  2.3794e-02,\n",
       "            -4.9320e-02, -5.1660e-02],\n",
       "           [ 7.6340e-02,  2.0698e-01,  1.1707e-01,  ..., -1.8835e-01,\n",
       "            -2.9077e-01, -1.4668e-01]],\n",
       " \n",
       "          [[ 2.3012e-01, -4.4808e-01, -2.0623e-02,  ...,  3.1001e-01,\n",
       "             9.1847e-02, -5.7593e-02],\n",
       "           [ 3.3392e-02, -3.2486e-01,  6.7592e-01,  ...,  1.0117e-01,\n",
       "             4.5436e-01,  1.4459e-01],\n",
       "           [-5.2754e-01,  5.7071e-01,  1.6096e-01,  ...,  7.0853e-01,\n",
       "            -2.8792e-01,  5.4995e-01],\n",
       "           ...,\n",
       "           [ 3.7898e-02,  3.6005e-02, -1.9441e-01,  ...,  9.1670e-02,\n",
       "             4.2932e-02,  7.5569e-02],\n",
       "           [-2.0767e-01, -5.5939e-02, -3.7650e-02,  ..., -1.0048e-02,\n",
       "             1.0205e-01,  4.2270e-02],\n",
       "           [ 1.1421e-01,  7.2813e-02,  7.2378e-02,  ...,  2.7885e-01,\n",
       "            -1.4896e-01,  9.9016e-02]]],\n",
       " \n",
       " \n",
       "         [[[ 1.3260e-01,  4.5000e-01, -9.2641e-02,  ...,  1.9362e-01,\n",
       "            -1.7857e-01,  1.6095e-01],\n",
       "           [ 1.0409e-01, -7.1805e-01,  9.4697e-01,  ..., -1.1605e-02,\n",
       "             1.3852e-01, -3.0506e-01],\n",
       "           [ 1.1327e-01, -4.5083e-01,  2.9624e-01,  ...,  3.3754e-02,\n",
       "             1.9637e-01,  2.7351e-01],\n",
       "           ...,\n",
       "           [-2.2857e-01, -2.9399e-01, -5.9067e-01,  ..., -2.7404e-01,\n",
       "            -5.1971e-02,  2.7465e-01],\n",
       "           [-3.0234e-01,  4.4506e-01, -2.4229e-01,  ..., -3.2851e-01,\n",
       "             2.1382e-01, -1.3500e-01],\n",
       "           [-1.2440e-01, -1.9679e-01, -6.0196e-01,  ...,  1.3475e-01,\n",
       "             1.0394e-01,  1.0408e-01]],\n",
       " \n",
       "          [[-1.5158e-01, -1.1859e-01, -7.8976e-01,  ..., -3.2846e-01,\n",
       "             6.6304e-03, -2.5445e-01],\n",
       "           [-2.1295e-01, -9.6433e-02,  5.9998e-01,  ..., -4.2165e-01,\n",
       "             3.7896e-01,  1.4170e-01],\n",
       "           [-9.9053e-02, -4.7880e-01,  5.1354e-01,  ...,  1.6536e-02,\n",
       "            -2.1381e-01, -6.6332e-02],\n",
       "           ...,\n",
       "           [-3.6826e-01, -2.1637e-01,  2.0534e-01,  ...,  3.0023e-02,\n",
       "            -2.0665e-01, -2.5217e-01],\n",
       "           [-7.5597e-02,  5.0103e-02, -1.7330e-01,  ..., -1.0659e-02,\n",
       "            -5.9061e-02, -1.8174e-01],\n",
       "           [-7.6691e-02,  7.4616e-02,  4.3919e-02,  ..., -1.8276e-01,\n",
       "            -4.0110e-01, -4.3394e-01]],\n",
       " \n",
       "          [[ 3.1736e-01, -4.0378e-01,  2.3863e-01,  ...,  7.7533e-02,\n",
       "            -2.7571e-01,  1.0700e-01],\n",
       "           [ 1.1463e-01, -4.8320e-01, -1.1505e-03,  ..., -4.1737e-01,\n",
       "             5.4960e-01, -1.7496e-01],\n",
       "           [-3.5622e-01,  1.1821e-02,  9.4669e-01,  ..., -1.8944e-01,\n",
       "            -1.4463e-01,  5.1631e-01],\n",
       "           ...,\n",
       "           [ 5.6408e-02, -4.7484e-01,  1.3984e-01,  ...,  4.3010e-02,\n",
       "             1.4665e-01, -1.4668e-02],\n",
       "           [-1.4068e-01,  4.4238e-01, -1.7265e-01,  ..., -1.2564e-01,\n",
       "            -9.0598e-02,  2.2806e-01],\n",
       "           [-6.1235e-02, -2.4514e-01,  3.0728e-01,  ...,  3.4053e-01,\n",
       "            -2.1616e-02,  6.0264e-02]]]], grad_fn=<TanhBackward0>),\n",
       " tensor([[-0.0295, -0.2485, -0.1573,  ..., -0.0704, -0.0650,  0.4408],\n",
       "         [ 0.1942,  0.2900, -0.3558,  ..., -0.0302,  0.2403,  0.6236],\n",
       "         [-0.2301, -0.5982,  0.2323,  ..., -0.2415,  0.5870,  0.3395],\n",
       "         ...,\n",
       "         [ 0.4784, -0.0037,  0.0384,  ...,  0.0736,  0.3466,  0.0100],\n",
       "         [-0.3936, -0.0761,  0.2858,  ..., -0.0372,  0.8595,  0.5041],\n",
       "         [-0.3524,  0.0211,  0.3575,  ..., -0.4783,  0.2930,  0.5256]],\n",
       "        grad_fn=<AddmmBackward0>),\n",
       " tensor([[ 0.2030,  0.1402,  0.4026,  ..., -0.2539,  0.3211,  0.4333],\n",
       "         [ 0.1343,  0.1265,  0.3871,  ...,  0.0460, -0.0868,  0.4976],\n",
       "         [ 0.0069,  0.5708,  0.2574,  ...,  0.1135,  0.2010,  0.6319],\n",
       "         ...,\n",
       "         [ 0.1028,  0.0656, -0.2042,  ...,  0.0954, -0.1781,  0.3834],\n",
       "         [ 0.4002,  0.2962,  0.1075,  ..., -0.0397,  0.5753,  0.3801],\n",
       "         [ 0.0287,  0.1064, -0.0757,  ..., -0.2221,  0.4709,  0.3635]],\n",
       "        grad_fn=<AddmmBackward0>)]"
      ]
     },
     "execution_count": 7,
     "metadata": {},
     "output_type": "execute_result"
    }
   ],
   "source": [
    "# # Testing the model\n",
    "model.forward(training_tensor)\n",
    "# # Code to test out the encoder & decoder\n",
    "# mu, log_var = encoder.forward(training_tensor)\n",
    "# print(\"mu: \", mu.shape)\n",
    "# print(\"log_var: \", log_var.shape)\n",
    "\n",
    "# reconstructed_img = decoder.forward(mu, log_var)"
   ]
  },
  {
   "cell_type": "markdown",
   "metadata": {},
   "source": [
    "#### Implement Loss Function\n"
   ]
  },
  {
   "cell_type": "code",
   "execution_count": 8,
   "metadata": {},
   "outputs": [],
   "source": [
    "def loss_function(reconstructed_img, input_img, mu, log_var, kld_weight=2):\n",
    "    # print(\"reconstructed_img: \", reconstructed_img.shape)\n",
    "    # print(\"input_img: \", input_img.shape)\n",
    "    img_loss = F.mse_loss(reconstructed_img, input_img)\n",
    "    # article on calculating kl divergence between 2 gaussians:\n",
    "    # https://medium.com/@outerrencedl/variational-autoencoder-and-a-bit-kl-divergence-with-pytorch-ce04fd55d0d7\n",
    "    kld_loss = torch.mean(\n",
    "        torch.sum(-log_var + (log_var.exp() ** 2 + mu**2) / 2 - 1 / 2)\n",
    "        \n",
    "    )\n",
    "    # kld_loss = torch.mean(-0.5 * torch.sum(1 + log_var - mu.pow(2) - log_var.exp()))\n",
    "    kld_loss *= kld_weight\n",
    "\n",
    "    return img_loss + kld_loss"
   ]
  },
  {
   "cell_type": "markdown",
   "metadata": {},
   "source": [
    "#### Implement Gradient Descent\n"
   ]
  },
  {
   "cell_type": "code",
   "execution_count": 9,
   "metadata": {},
   "outputs": [],
   "source": [
    "def gradient_descent(model, loss_func, x, y, xvalid, yvalid, lr=0.1, steps=5000, batch_size=32):\n",
    "    # only really need x or y, they are the same thing\n",
    "    optimizer = optim.AdamW(model.parameters(), lr)\n",
    "\n",
    "    losses = []\n",
    "    valid_losses = []\n",
    "\n",
    "    train_dataset = TensorDataset(x, y)\n",
    "    train_batches = DataLoader(train_dataset, batch_size=batch_size, shuffle=True)\n",
    "\n",
    "    valid_dataset = TensorDataset(xvalid, yvalid)\n",
    "    valid_batches = DataLoader(valid_dataset, batch_size=batch_size, shuffle=False)\n",
    "\n",
    "    for _ in tqdm.trange(steps):\n",
    "        model.train()\n",
    "        total_loss = 0\n",
    "\n",
    "        for input_batch, label_batch in train_batches:\n",
    "            reconstructed_img, mu, log_var = model(input_batch)\n",
    "            # y is the original image I think? yeah\n",
    "            loss = loss_func(reconstructed_img, label_batch, mu, log_var)\n",
    "            loss.backward()\n",
    "            optimizer.step()\n",
    "            total_loss += loss.item()\n",
    "            optimizer.zero_grad()\n",
    "        mean_loss = total_loss/len(train_batches)\n",
    "        losses.append(mean_loss)\n",
    "\n",
    "        model.eval()\n",
    "        total_valid_loss = 0\n",
    "        for input_valid_batch, label_valid_batch in valid_batches:\n",
    "            reconstructed_img, mu, log_var = model(input_valid_batch)\n",
    "            valid_loss = loss_func(reconstructed_img, label_valid_batch, mu, log_var)\n",
    "            total_valid_loss += valid_loss.detach()\n",
    "        mean_valid_loss = total_valid_loss/len(valid_batches)\n",
    "        valid_losses.append(mean_valid_loss)\n",
    "\n",
    "    print(f\"Final training loss: {losses[-1]}\")\n",
    "\n",
    "    return losses, valid_losses"
   ]
  },
  {
   "cell_type": "code",
   "execution_count": 10,
   "metadata": {},
   "outputs": [
    {
     "name": "stderr",
     "output_type": "stream",
     "text": [
      "100%|██████████| 10/10 [00:18<00:00,  1.83s/it]"
     ]
    },
    {
     "name": "stdout",
     "output_type": "stream",
     "text": [
      "Final training loss: 4.180126252927278\n"
     ]
    },
    {
     "name": "stderr",
     "output_type": "stream",
     "text": [
      "\n"
     ]
    }
   ],
   "source": [
    "losses, valid_losses = gradient_descent(\n",
    "    model, loss_function, training_tensor, training_tensor, cv_tensor, cv_tensor, steps=10, lr = 0.001\n",
    ")"
   ]
  },
  {
   "cell_type": "code",
   "execution_count": 11,
   "metadata": {},
   "outputs": [],
   "source": [
    "torch.save(model.state_dict(), \"saved_model\")"
   ]
  },
  {
   "cell_type": "code",
   "execution_count": 19,
   "metadata": {},
   "outputs": [
    {
     "name": "stderr",
     "output_type": "stream",
     "text": [
      "Clipping input data to the valid range for imshow with RGB data ([0..1] for floats or [0..255] for integers).\n"
     ]
    },
    {
     "name": "stdout",
     "output_type": "stream",
     "text": [
      "torch.Size([1, 64])\n"
     ]
    },
    {
     "data": {
      "text/plain": [
       "<matplotlib.image.AxesImage at 0x215a992ed10>"
      ]
     },
     "execution_count": 19,
     "metadata": {},
     "output_type": "execute_result"
    },
    {
     "data": {
      "image/png": "[encoded data removed]",
      "text/plain": [
       "<Figure size 640x480 with 1 Axes>"
      ]
     },
     "metadata": {},
     "output_type": "display_data"
    }
   ],
   "source": [
    "# after we've trained, we use the decoder to generate new images\n",
    "# we assume a normal distribution over our latent space\n",
    "# so we sample from that distribution and feed it into the decoder\n",
    "img = model.sample_img()\n",
    "img = img.view(64, 64, 3)\n",
    "img = img.detach().numpy()\n",
    "plt.imshow(img)"
   ]
  }
 ],
 "metadata": {
  "kernelspec": {
   "display_name": "NN",
   "language": "python",
   "name": "python3"
  },
  "language_info": {
   "codemirror_mode": {
    "name": "ipython",
    "version": 3
   },
   "file_extension": ".py",
   "mimetype": "text/x-python",
   "name": "python",
   "nbconvert_exporter": "python",
   "pygments_lexer": "ipython3",
   "version": "3.11.4"
  }
 },
 "nbformat": 4,
 "nbformat_minor": 2
}
