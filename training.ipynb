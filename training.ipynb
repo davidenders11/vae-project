{
 "cells": [
  {
   "cell_type": "code",
   "execution_count": 54,
   "metadata": {},
   "outputs": [],
   "source": [
    "import torch\n",
    "import torch.nn as nn\n",
    "import torch.nn.functional as F\n",
    "from torch import optim\n",
    "import os\n",
    "import matplotlib.image as img\n",
    "import tqdm\n",
    "import matplotlib.pyplot as plt \n",
    "from vae import Basic_VAE\n",
    "from encoder import Encoder\n",
    "from decoder import Decoder\n",
    "from torch.utils.data import DataLoader, TensorDataset"
   ]
  },
  {
   "cell_type": "markdown",
   "metadata": {},
   "source": [
    "#### Create Dataset\n"
   ]
  },
  {
   "cell_type": "code",
   "execution_count": 55,
   "metadata": {},
   "outputs": [
    {
     "name": "stdout",
     "output_type": "stream",
     "text": [
      "torch.Size([1000, 3, 64, 64])\n"
     ]
    }
   ],
   "source": [
    "cats = []\n",
    "directory = \"data/cats\"\n",
    "count = 0\n",
    "\n",
    "for catpic in os.listdir(directory):\n",
    "    if count < 1000:\n",
    "        # read from image and convert to tensor\n",
    "        im = torch.tensor(img.imread(os.path.join(directory, catpic))).float()\n",
    "        # permute to (channels, height, width) for conv2d layer\n",
    "        im = torch.permute(im, (2, 0, 1))\n",
    "        # normalize to range between -1 and 1\n",
    "        im = im / 128 - 1\n",
    "        cats.append(im)\n",
    "        count += 1\n",
    "    else:\n",
    "        break\n",
    "cats = torch.stack(cats)\n",
    "print(cats.shape)"
   ]
  },
  {
   "cell_type": "markdown",
   "metadata": {},
   "source": [
    "#### Test/Training/Validation Split\n"
   ]
  },
  {
   "cell_type": "code",
   "execution_count": 56,
   "metadata": {},
   "outputs": [
    {
     "name": "stdout",
     "output_type": "stream",
     "text": [
      "torch.Size([600, 3, 64, 64])\n",
      "torch.Size([151, 3, 64, 64])\n",
      "torch.Size([249, 3, 64, 64])\n"
     ]
    }
   ],
   "source": [
    "# Split the data into what we use for testing and not testing\n",
    "training_test_split = 0.75\n",
    "training_test_cutoff = int(cats.shape[0] * training_test_split + 1)\n",
    "random_perm = torch.randperm(cats.shape[0])\n",
    "not_test_tensor = cats[:training_test_cutoff]\n",
    "testing_tensor = cats[training_test_cutoff:]\n",
    "# Split the data into what we use for training and cross validation\n",
    "training_cv_split = 0.8\n",
    "training_cv_cutoff = int(not_test_tensor.shape[0] * training_cv_split)\n",
    "training_tensor = not_test_tensor[:training_cv_cutoff]\n",
    "cv_tensor = not_test_tensor[training_cv_cutoff:]\n",
    "print(training_tensor.shape)\n",
    "print(cv_tensor.shape)\n",
    "print(testing_tensor.shape)"
   ]
  },
  {
   "cell_type": "markdown",
   "metadata": {},
   "source": [
    "#### Choose Hyperparameters and Build Model\n"
   ]
  },
  {
   "cell_type": "code",
   "execution_count": 62,
   "metadata": {},
   "outputs": [],
   "source": [
    "from vae import Basic_VAE\n",
    "\n",
    "hidden_dims = [16, 32, 64, 128]\n",
    "latent_dim = 64\n",
    "in_dim = 3\n",
    "model = Basic_VAE(in_dim, hidden_dims, latent_dim)\n",
    "# encoder = Encoder(in_dim, hidden_dims, latent_dim) for testing\n",
    "# decoder = Decoder(latent_dim, hidden_dims) for testing"
   ]
  },
  {
   "cell_type": "code",
   "execution_count": 63,
   "metadata": {},
   "outputs": [
    {
     "data": {
      "text/plain": [
       "[tensor([[[[ 2.2829e-01, -1.9878e-01,  7.2703e-02,  ..., -1.4805e-02,\n",
       "             1.9015e-01, -1.2032e-01],\n",
       "           [-4.2960e-01,  8.8158e-02, -1.6119e-01,  ...,  2.3195e-02,\n",
       "             2.4799e-01, -2.1734e-01],\n",
       "           [-6.9443e-02,  7.1144e-01,  5.5878e-01,  ..., -1.8499e-01,\n",
       "             7.2330e-02, -2.1742e-01],\n",
       "           ...,\n",
       "           [-1.2816e-01,  1.8466e-01,  1.5087e-01,  ...,  2.8379e-01,\n",
       "             1.6731e-01,  1.4945e-01],\n",
       "           [-2.2260e-01,  2.5792e-02, -1.3797e-01,  ...,  1.9265e-01,\n",
       "             2.4146e-02,  3.1340e-01],\n",
       "           [ 1.4765e-01,  1.5185e-01,  6.9520e-02,  ..., -8.1611e-02,\n",
       "             2.2395e-01,  1.7966e-03]],\n",
       " \n",
       "          [[ 7.8959e-02, -1.4593e-01, -1.1887e-01,  ..., -2.4924e-02,\n",
       "             4.4397e-02, -1.0381e-01],\n",
       "           [-3.8214e-01,  8.1061e-01, -2.2452e-01,  ..., -6.6321e-02,\n",
       "             1.0477e-01,  3.5440e-02],\n",
       "           [-4.0597e-01, -1.9150e-01, -2.1913e-01,  ..., -3.8337e-01,\n",
       "            -8.5378e-02,  3.3479e-02],\n",
       "           ...,\n",
       "           [ 5.5423e-04, -3.1409e-01, -3.6256e-02,  ..., -1.8546e-01,\n",
       "            -1.2920e-01, -4.2205e-02],\n",
       "           [-8.8412e-02,  4.0742e-01,  1.2713e-01,  ..., -1.8157e-01,\n",
       "            -1.6085e-01, -5.3439e-02],\n",
       "           [-5.6797e-02, -3.2032e-01, -2.3647e-01,  ..., -1.6462e-02,\n",
       "             1.5525e-01, -1.4246e-01]],\n",
       " \n",
       "          [[ 2.3521e-01,  5.6747e-02,  1.6812e-01,  ...,  3.6052e-02,\n",
       "            -8.9028e-02,  1.2617e-01],\n",
       "           [ 8.9471e-04, -6.4085e-01, -8.5008e-01,  ...,  6.1171e-02,\n",
       "            -2.9164e-01, -2.2392e-01],\n",
       "           [ 1.6288e-02, -4.5468e-01,  9.5891e-01,  ..., -1.0103e-01,\n",
       "             2.2747e-02, -1.9273e-02],\n",
       "           ...,\n",
       "           [ 1.9109e-01, -9.1519e-02, -1.4509e-02,  ...,  2.8766e-01,\n",
       "             1.6123e-01, -1.5996e-01],\n",
       "           [-6.2840e-02, -3.6621e-01,  1.0496e-01,  ...,  1.1354e-01,\n",
       "             6.1378e-02, -1.2393e-01],\n",
       "           [-6.7977e-02, -1.6266e-01,  3.9208e-01,  ...,  2.3468e-01,\n",
       "            -3.9283e-01,  3.2908e-01]]],\n",
       " \n",
       " \n",
       "         [[[-2.7487e-01, -3.1507e-01, -5.2401e-01,  ..., -1.0694e-01,\n",
       "             1.0010e-01,  4.1279e-02],\n",
       "           [-4.1679e-02,  5.3258e-01,  2.1171e-01,  ...,  1.4550e-01,\n",
       "             4.9601e-02,  3.5763e-01],\n",
       "           [ 2.8691e-01, -5.2365e-01,  6.5193e-01,  ..., -3.7309e-02,\n",
       "            -1.7803e-01,  4.2931e-01],\n",
       "           ...,\n",
       "           [-1.9093e-01, -4.7042e-01,  5.8603e-01,  ...,  1.4971e-01,\n",
       "             1.2944e-01,  3.5081e-02],\n",
       "           [-4.1254e-01, -4.3185e-01, -1.3034e-01,  ...,  2.2144e-01,\n",
       "             1.9533e-01,  5.3123e-02],\n",
       "           [ 2.3125e-01, -1.0825e-01, -8.1948e-02,  ...,  9.7560e-02,\n",
       "             2.0117e-01,  5.0223e-02]],\n",
       " \n",
       "          [[ 1.4412e-01, -5.2560e-02, -1.0354e-01,  ...,  2.5549e-01,\n",
       "            -3.0319e-01, -1.5023e-01],\n",
       "           [-5.3771e-01,  5.2427e-01, -2.2289e-01,  ..., -2.2752e-01,\n",
       "            -4.2237e-01,  3.1909e-01],\n",
       "           [-8.8614e-01,  5.0590e-01, -4.2798e-01,  ..., -1.8440e-01,\n",
       "            -5.6856e-01, -9.2010e-02],\n",
       "           ...,\n",
       "           [ 5.2524e-02, -5.5466e-01,  1.2951e-01,  ..., -1.4234e-01,\n",
       "            -1.0035e-01, -2.0648e-01],\n",
       "           [ 2.8976e-01,  4.8194e-01, -3.2588e-01,  ..., -1.4356e-01,\n",
       "             1.2139e-01, -3.3080e-01],\n",
       "           [-7.9355e-02, -2.4469e-01, -1.5474e-01,  ..., -1.7838e-01,\n",
       "            -1.2820e-01,  4.7549e-02]],\n",
       " \n",
       "          [[ 3.6634e-02,  3.2406e-01, -6.4477e-01,  ..., -7.7908e-02,\n",
       "             2.7660e-02, -3.6466e-01],\n",
       "           [-1.6882e-01, -4.9983e-01, -5.2584e-02,  ...,  3.0845e-01,\n",
       "             5.1907e-01, -1.0076e-01],\n",
       "           [ 6.3015e-01, -3.0184e-02,  3.2389e-01,  ...,  9.6184e-02,\n",
       "             4.0372e-01, -6.6284e-02],\n",
       "           ...,\n",
       "           [ 2.6652e-01, -8.2803e-02, -3.6745e-01,  ...,  1.2141e-01,\n",
       "            -4.7707e-01,  1.9729e-01],\n",
       "           [-1.7541e-01, -2.5356e-01,  1.6996e-01,  ...,  5.2564e-02,\n",
       "            -2.9405e-02,  1.6948e-01],\n",
       "           [-2.5003e-01,  2.4217e-01,  1.0361e-01,  ..., -6.6031e-02,\n",
       "             2.0046e-01,  5.6391e-02]]],\n",
       " \n",
       " \n",
       "         [[[-1.4145e-01,  6.1872e-01,  3.4389e-01,  ...,  2.0271e-02,\n",
       "             2.3830e-01, -1.6932e-01],\n",
       "           [ 2.5484e-01,  2.2879e-01,  1.3138e-01,  ...,  1.1195e-01,\n",
       "             2.9949e-02, -1.6038e-01],\n",
       "           [-1.6243e-01, -3.7789e-01,  1.5554e-02,  ..., -2.8790e-01,\n",
       "            -2.8566e-01, -5.0928e-02],\n",
       "           ...,\n",
       "           [ 5.0189e-01, -1.9823e-03, -1.9368e-01,  ...,  5.5256e-02,\n",
       "            -4.0898e-02,  1.9341e-01],\n",
       "           [-3.7795e-01, -4.7504e-01,  1.7163e-01,  ...,  1.1218e-01,\n",
       "             9.0131e-02,  1.1160e-01],\n",
       "           [ 6.4346e-02,  4.3371e-02, -2.7816e-01,  ..., -6.2850e-02,\n",
       "            -1.3510e-02,  1.0868e-01]],\n",
       " \n",
       "          [[-3.4498e-01,  5.4924e-01, -1.9439e-02,  ...,  2.1259e-02,\n",
       "             4.7247e-02, -2.5423e-01],\n",
       "           [-1.9534e-01, -7.6601e-01, -3.6808e-01,  ..., -2.2524e-01,\n",
       "            -2.6684e-02,  3.6882e-01],\n",
       "           [ 5.2041e-02, -7.9192e-01,  8.2652e-02,  ..., -4.2464e-02,\n",
       "            -6.1296e-01,  4.5461e-01],\n",
       "           ...,\n",
       "           [-8.3449e-02, -8.3453e-01, -2.3370e-01,  ...,  1.3265e-01,\n",
       "            -3.9262e-02, -2.9661e-02],\n",
       "           [ 6.8277e-02,  3.8694e-01,  3.7821e-01,  ..., -8.7841e-02,\n",
       "             2.7438e-02, -3.2033e-01],\n",
       "           [-1.8545e-01, -3.5138e-01,  1.5645e-01,  ..., -1.9179e-01,\n",
       "            -1.4624e-01, -2.7401e-01]],\n",
       " \n",
       "          [[-3.0660e-01, -9.3727e-02, -1.4346e-01,  ..., -2.5610e-01,\n",
       "             1.9881e-01,  5.4023e-02],\n",
       "           [ 1.0472e-01,  4.2486e-01, -5.9038e-01,  ...,  7.4344e-02,\n",
       "             3.6515e-01, -3.1376e-01],\n",
       "           [-6.8069e-01, -5.3147e-01, -2.1933e-01,  ..., -1.0590e-01,\n",
       "             5.6735e-01, -4.0334e-01],\n",
       "           ...,\n",
       "           [ 4.1905e-02, -6.5739e-01,  3.9214e-01,  ..., -5.5498e-01,\n",
       "             2.2248e-01, -1.7722e-01],\n",
       "           [-1.6214e-01, -6.4239e-01,  2.4405e-01,  ..., -2.5122e-01,\n",
       "             1.6613e-01,  4.9126e-02],\n",
       "           [-1.4716e-01,  1.3077e-01,  6.3699e-01,  ..., -1.8306e-01,\n",
       "             1.1829e-01,  5.4302e-02]]],\n",
       " \n",
       " \n",
       "         ...,\n",
       " \n",
       " \n",
       "         [[[ 1.4284e-01,  5.2481e-01,  2.8708e-01,  ...,  1.8555e-01,\n",
       "             9.3356e-02, -1.9458e-01],\n",
       "           [-1.8093e-01,  1.9338e-02,  5.8353e-01,  ..., -3.5911e-01,\n",
       "            -6.6338e-03, -3.3525e-01],\n",
       "           [-2.1812e-01, -5.6016e-01,  5.7487e-01,  ...,  1.6464e-01,\n",
       "             1.8635e-01, -9.6390e-02],\n",
       "           ...,\n",
       "           [ 1.6280e-01,  2.2160e-01, -1.1934e-01,  ...,  4.3066e-01,\n",
       "             1.4552e-01,  3.5591e-02],\n",
       "           [-6.5685e-02, -2.6294e-02,  1.8574e-02,  ...,  4.5728e-02,\n",
       "            -1.4612e-01,  7.8373e-02],\n",
       "           [ 5.6533e-02, -2.0238e-02,  2.7328e-01,  ..., -1.1828e-01,\n",
       "             4.6951e-02,  1.2210e-01]],\n",
       " \n",
       "          [[-2.2207e-01,  1.1746e-01, -3.6014e-01,  ..., -2.5339e-01,\n",
       "             6.1376e-02, -2.5909e-01],\n",
       "           [-1.6154e-01, -6.0405e-01, -4.8279e-01,  ..., -3.3166e-01,\n",
       "             3.9453e-01,  1.9627e-01],\n",
       "           [ 2.2411e-02,  6.8554e-01, -7.7697e-01,  ...,  3.4134e-01,\n",
       "            -2.1520e-01,  1.3751e-01],\n",
       "           ...,\n",
       "           [-1.7784e-01, -2.1531e-01, -5.3356e-01,  ...,  3.9361e-02,\n",
       "            -2.7771e-01,  2.4269e-01],\n",
       "           [-1.4237e-02, -7.5057e-03,  2.7273e-02,  ...,  1.2172e-01,\n",
       "            -1.5639e-01, -2.6888e-02],\n",
       "           [-1.5546e-01, -4.5822e-01,  3.9878e-01,  ..., -2.1324e-01,\n",
       "            -6.9737e-02,  4.7325e-04]],\n",
       " \n",
       "          [[ 9.7608e-02,  1.1644e-01,  5.5374e-01,  ..., -3.3264e-01,\n",
       "             2.8205e-01,  1.9523e-01],\n",
       "           [ 9.2692e-02, -3.5105e-01,  2.2062e-01,  ..., -6.3776e-01,\n",
       "            -6.3023e-01, -7.7264e-02],\n",
       "           [-5.2345e-01, -8.6339e-01,  9.3014e-01,  ..., -3.1229e-01,\n",
       "             3.5364e-01, -1.4067e-01],\n",
       "           ...,\n",
       "           [ 2.3132e-01, -2.9137e-01, -2.3054e-01,  ...,  4.4666e-01,\n",
       "             4.9897e-01, -2.1277e-01],\n",
       "           [-6.5365e-02, -3.5087e-02, -8.2590e-03,  ..., -7.3332e-02,\n",
       "             1.8735e-02,  1.0993e-01],\n",
       "           [-8.9211e-02,  2.8827e-02, -2.5977e-01,  ..., -6.8985e-02,\n",
       "            -1.9475e-01, -4.5387e-02]]],\n",
       " \n",
       " \n",
       "         [[[ 1.5863e-01, -5.9652e-01,  5.0610e-01,  ..., -7.1389e-02,\n",
       "            -1.0060e-02,  6.6073e-03],\n",
       "           [-2.5709e-01, -1.0222e-01,  1.3941e-02,  ...,  4.1182e-01,\n",
       "             1.2297e-01,  2.4864e-01],\n",
       "           [ 2.5674e-01, -5.3101e-01, -2.0862e-01,  ...,  3.4521e-02,\n",
       "            -1.0398e-01,  1.7451e-01],\n",
       "           ...,\n",
       "           [-1.5599e-02,  5.3840e-01,  3.2836e-01,  ..., -2.9718e-02,\n",
       "             1.8958e-01,  2.9031e-03],\n",
       "           [-2.1883e-01, -2.7190e-01,  1.1982e-01,  ..., -6.2519e-02,\n",
       "             9.2334e-02,  4.4836e-02],\n",
       "           [-4.8515e-02,  1.3424e-01, -1.9150e-01,  ...,  1.0732e-01,\n",
       "             1.1587e-01,  5.8419e-02]],\n",
       " \n",
       "          [[-4.4093e-02,  2.2344e-01, -8.5975e-02,  ..., -3.2200e-02,\n",
       "            -3.5620e-02, -5.2195e-02],\n",
       "           [-2.5189e-01,  2.1029e-01, -1.6955e-02,  ..., -7.5791e-02,\n",
       "            -1.4752e-01,  3.7374e-01],\n",
       "           [ 1.0810e-01, -3.6573e-01, -5.8537e-01,  ...,  5.5755e-02,\n",
       "            -4.5378e-01,  3.9509e-02],\n",
       "           ...,\n",
       "           [-2.9670e-01, -1.0905e-01, -5.9423e-01,  ..., -2.6544e-01,\n",
       "            -6.1417e-02, -9.2137e-02],\n",
       "           [-1.3164e-02,  3.3256e-01, -4.1382e-01,  ..., -1.0687e-01,\n",
       "            -6.9186e-02,  1.6389e-01],\n",
       "           [-1.0710e-01, -2.1771e-01,  2.2912e-01,  ...,  1.2555e-01,\n",
       "            -1.3004e-02,  6.6664e-02]],\n",
       " \n",
       "          [[-3.4321e-02, -1.0650e-01, -2.3182e-01,  ...,  1.0047e-01,\n",
       "            -2.8805e-01, -6.3247e-02],\n",
       "           [ 7.4097e-02,  7.4289e-04,  2.5119e-01,  ...,  2.5642e-02,\n",
       "             5.7395e-01, -4.9436e-01],\n",
       "           [ 6.6591e-02, -5.6451e-02,  5.0708e-01,  ..., -4.9501e-01,\n",
       "             4.1985e-01, -2.6566e-01],\n",
       "           ...,\n",
       "           [ 7.0159e-02, -1.4106e-01,  1.3802e-01,  ...,  1.1634e-01,\n",
       "            -1.3600e-01,  1.1451e-02],\n",
       "           [-1.8614e-01, -2.5623e-01,  4.0915e-01,  ...,  1.5397e-01,\n",
       "            -2.5511e-01, -2.0844e-01],\n",
       "           [-2.8124e-01,  7.8390e-02,  4.6957e-01,  ...,  1.4980e-01,\n",
       "            -2.2705e-01,  3.7688e-03]]],\n",
       " \n",
       " \n",
       "         [[[ 3.5427e-02,  2.4516e-01,  4.7262e-01,  ...,  1.3709e-01,\n",
       "             6.8259e-02,  6.9874e-02],\n",
       "           [ 2.5554e-01,  1.9801e-01, -2.7934e-02,  ...,  3.2537e-01,\n",
       "            -1.3096e-01,  1.3595e-01],\n",
       "           [-9.3411e-02, -7.2460e-01, -4.3408e-02,  ..., -1.2813e-01,\n",
       "            -3.4196e-01,  8.4081e-03],\n",
       "           ...,\n",
       "           [ 3.0634e-01,  6.0365e-01, -1.7643e-01,  ..., -2.0707e-01,\n",
       "            -2.0162e-02,  9.8823e-02],\n",
       "           [ 2.2910e-02,  1.5580e-01,  1.9661e-01,  ..., -4.2696e-02,\n",
       "             9.8440e-02, -9.9982e-03],\n",
       "           [-3.8560e-02,  5.6139e-02, -1.6845e-01,  ...,  5.8409e-02,\n",
       "            -1.4391e-01,  7.7762e-02]],\n",
       " \n",
       "          [[-3.8623e-01,  3.5347e-01, -2.4912e-03,  ..., -2.7232e-01,\n",
       "             2.0148e-02,  3.4325e-02],\n",
       "           [ 3.3985e-02, -6.1089e-01, -7.0105e-01,  ..., -6.5416e-02,\n",
       "             1.7468e-01, -9.5119e-02],\n",
       "           [ 3.9980e-01, -6.4210e-01, -3.8088e-01,  ...,  6.4207e-03,\n",
       "            -2.2177e-01,  4.5219e-01],\n",
       "           ...,\n",
       "           [-2.2773e-01,  1.4999e-02, -4.5125e-01,  ..., -8.5028e-02,\n",
       "            -6.9573e-02, -1.0271e-01],\n",
       "           [-4.5373e-01,  4.9081e-01,  1.5186e-01,  ..., -8.8294e-02,\n",
       "            -1.5749e-01,  7.8966e-02],\n",
       "           [-1.7302e-01, -3.8599e-01,  1.3765e-01,  ...,  1.2628e-01,\n",
       "            -1.9435e-01, -2.8256e-01]],\n",
       " \n",
       "          [[-1.5715e-01, -3.1912e-01,  2.2807e-01,  ..., -2.2024e-01,\n",
       "             1.7920e-01, -4.4128e-02],\n",
       "           [ 4.8651e-01, -9.5972e-02,  5.0483e-01,  ...,  3.9115e-01,\n",
       "             6.6960e-01, -4.8239e-01],\n",
       "           [-6.6854e-01, -3.7320e-01,  7.1963e-01,  ...,  5.0666e-01,\n",
       "            -4.5331e-01, -5.3810e-01],\n",
       "           ...,\n",
       "           [ 1.4295e-01, -3.8589e-01,  5.1147e-01,  ..., -2.3352e-01,\n",
       "            -2.3616e-01,  3.5493e-01],\n",
       "           [ 2.7432e-01, -5.8745e-01,  3.1739e-01,  ...,  8.0727e-02,\n",
       "            -2.4522e-02, -1.3572e-01],\n",
       "           [-2.8145e-01, -9.6591e-02,  1.5097e-01,  ...,  1.1669e-01,\n",
       "             1.1629e-01, -2.0241e-01]]]], grad_fn=<TanhBackward0>),\n",
       " tensor([[-0.0038,  0.3176, -0.3598,  ..., -0.0784, -0.2301, -0.1793],\n",
       "         [ 0.7419,  0.0538, -0.1171,  ..., -0.8537, -0.4629, -0.3953],\n",
       "         [-0.0868,  0.8635, -0.2352,  ..., -0.9879,  0.2513, -1.3717],\n",
       "         ...,\n",
       "         [ 0.1812,  0.1779,  0.0577,  ..., -0.3793,  0.2556, -0.4902],\n",
       "         [ 0.0337, -0.4103, -0.3068,  ..., -0.9523, -0.2905, -0.9765],\n",
       "         [ 0.3935,  0.0863, -0.3225,  ..., -0.8976,  0.1568, -0.6614]],\n",
       "        grad_fn=<AddmmBackward0>),\n",
       " tensor([[ 0.7090, -0.0648,  0.1333,  ...,  0.0261, -0.0734, -0.3152],\n",
       "         [ 0.1960, -0.0143, -0.0507,  ...,  0.2290,  0.1997, -0.1796],\n",
       "         [ 0.7790,  1.0172, -0.4100,  ..., -0.2012, -0.1186, -0.3624],\n",
       "         ...,\n",
       "         [ 0.3615, -0.2597, -0.1588,  ...,  0.4277,  0.4153, -0.5670],\n",
       "         [ 0.9539, -0.3660, -0.0754,  ...,  0.3250,  0.4836, -0.3252],\n",
       "         [ 0.3239,  0.2519,  0.2461,  ...,  0.2992,  0.2047, -0.0242]],\n",
       "        grad_fn=<AddmmBackward0>)]"
      ]
     },
     "execution_count": 63,
     "metadata": {},
     "output_type": "execute_result"
    }
   ],
   "source": [
    "# # Testing the model\n",
    "model.forward(training_tensor)\n",
    "# # Code to test out the encoder & decoder\n",
    "# mu, log_var = encoder.forward(training_tensor)\n",
    "# print(\"mu: \", mu.shape)\n",
    "# print(\"log_var: \", log_var.shape)\n",
    "\n",
    "# reconstructed_img = decoder.forward(mu, log_var)"
   ]
  },
  {
   "cell_type": "markdown",
   "metadata": {},
   "source": [
    "#### Implement Loss Function\n"
   ]
  },
  {
   "cell_type": "code",
   "execution_count": 69,
   "metadata": {},
   "outputs": [],
   "source": [
    "def loss_function(reconstructed_img, input_img, mu, log_var, kld_weight=0.001):\n",
    "    # print(\"reconstructed_img: \", reconstructed_img.shape)\n",
    "    # print(\"input_img: \", input_img.shape)\n",
    "    img_loss = F.mse_loss(reconstructed_img, input_img)\n",
    "    # article on calculating kl divergence between 2 gaussians:\n",
    "    # https://medium.com/@outerrencedl/variational-autoencoder-and-a-bit-kl-divergence-with-pytorch-ce04fd55d0d7\n",
    "    kld_loss = torch.mean(\n",
    "        torch.sum(-log_var + (log_var.exp() ** 2 + mu**2) / 2 - 1 / 2)\n",
    "        \n",
    "    )\n",
    "    # kld_loss = torch.mean(-0.5 * torch.sum(1 + log_var - mu.pow(2) - log_var.exp()))\n",
    "    kld_loss *= kld_weight\n",
    "\n",
    "    return img_loss + kld_loss"
   ]
  },
  {
   "cell_type": "markdown",
   "metadata": {},
   "source": [
    "#### Implement Gradient Descent\n"
   ]
  },
  {
   "cell_type": "code",
   "execution_count": 70,
   "metadata": {},
   "outputs": [],
   "source": [
    "def gradient_descent(model, loss_func, x, y, xvalid, yvalid, lr=0.1, steps=5000, batch_size=32):\n",
    "    # only really need x or y, they are the same thing\n",
    "    optimizer = optim.AdamW(model.parameters(), lr)\n",
    "\n",
    "    losses = []\n",
    "    valid_losses = []\n",
    "\n",
    "    train_dataset = TensorDataset(x, y)\n",
    "    train_batches = DataLoader(train_dataset, batch_size=batch_size, shuffle=True)\n",
    "\n",
    "    valid_dataset = TensorDataset(xvalid, yvalid)\n",
    "    valid_batches = DataLoader(valid_dataset, batch_size=batch_size, shuffle=False)\n",
    "\n",
    "    for _ in tqdm.trange(steps):\n",
    "        model.train()\n",
    "        total_loss = 0\n",
    "\n",
    "        for input_batch, label_batch in train_batches:\n",
    "            reconstructed_img, mu, log_var = model(input_batch)\n",
    "            # y is the original image I think? yeah\n",
    "            loss = loss_func(reconstructed_img, label_batch, mu, log_var)\n",
    "            loss.backward()\n",
    "            optimizer.step()\n",
    "            total_loss += loss.item()\n",
    "            optimizer.zero_grad()\n",
    "        mean_loss = total_loss/len(train_batches)\n",
    "        losses.append(mean_loss)\n",
    "\n",
    "        model.eval()\n",
    "        total_valid_loss = 0\n",
    "        for input_valid_batch, label_valid_batch in valid_batches:\n",
    "            reconstructed_img, mu, log_var = model(input_valid_batch)\n",
    "            valid_loss = loss_func(reconstructed_img, label_valid_batch, mu, log_var)\n",
    "            total_valid_loss += valid_loss.detach()\n",
    "        mean_valid_loss = total_valid_loss/len(valid_batches)\n",
    "        valid_losses.append(mean_valid_loss)\n",
    "\n",
    "    print(f\"Final training loss: {losses[-1]}\")\n",
    "\n",
    "    return losses, valid_losses"
   ]
  },
  {
   "cell_type": "code",
   "execution_count": 71,
   "metadata": {},
   "outputs": [
    {
     "name": "stderr",
     "output_type": "stream",
     "text": [
      "100%|██████████| 100/100 [02:42<00:00,  1.63s/it]"
     ]
    },
    {
     "name": "stdout",
     "output_type": "stream",
     "text": [
      "Final training loss: 0.22513380646705627\n"
     ]
    },
    {
     "name": "stderr",
     "output_type": "stream",
     "text": [
      "\n"
     ]
    }
   ],
   "source": [
    "losses, valid_losses = gradient_descent(\n",
    "    model, loss_function, training_tensor, training_tensor, cv_tensor, cv_tensor, steps=100, lr = 0.001\n",
    ")"
   ]
  },
  {
   "cell_type": "code",
   "execution_count": 52,
   "metadata": {},
   "outputs": [],
   "source": [
    "torch.save(model.state_dict(), \"saved_model\")"
   ]
  },
  {
   "cell_type": "code",
   "execution_count": 74,
   "metadata": {},
   "outputs": [
    {
     "name": "stderr",
     "output_type": "stream",
     "text": [
      "Clipping input data to the valid range for imshow with RGB data ([0..1] for floats or [0..255] for integers).\n"
     ]
    },
    {
     "name": "stdout",
     "output_type": "stream",
     "text": [
      "torch.Size([1, 64])\n"
     ]
    },
    {
     "data": {
      "text/plain": [
       "<matplotlib.image.AxesImage at 0x215b009d2d0>"
      ]
     },
     "execution_count": 74,
     "metadata": {},
     "output_type": "execute_result"
    },
    {
     "data": {
      "image/png": "[encoded data removed]",
      "text/plain": [
       "<Figure size 640x480 with 1 Axes>"
      ]
     },
     "metadata": {},
     "output_type": "display_data"
    }
   ],
   "source": [
    "# after we've trained, we use the decoder to generate new images\n",
    "# we assume a normal distribution over our latent space\n",
    "# so we sample from that distribution and feed it into the decoder\n",
    "img = model.sample_img()\n",
    "img = img.view(64, 64, 3)\n",
    "img = img.detach().numpy()\n",
    "plt.imshow(img)"
   ]
  },
  {
   "cell_type": "code",
   "execution_count": 76,
   "metadata": {},
   "outputs": [
    {
     "name": "stdout",
     "output_type": "stream",
     "text": [
      "torch.Size([1, 3, 64, 64])\n"
     ]
    },
    {
     "data": {
      "text/plain": [
       "<matplotlib.image.AxesImage at 0x215b02dd2d0>"
      ]
     },
     "execution_count": 76,
     "metadata": {},
     "output_type": "execute_result"
    },
    {
     "data": {
      "image/png": "[encoded data removed]",
      "text/plain": [
       "<Figure size 640x480 with 1 Axes>"
      ]
     },
     "metadata": {},
     "output_type": "display_data"
    }
   ],
   "source": [
    "import cv2\n",
    "\n",
    "img = cv2.imread(\"data/cats/1.jpg\")\n",
    "img = torch.from_numpy(img).float()\n",
    "img = img.view(1, 3, 64, 64)\n",
    "print(img.shape)\n",
    "rec_img = model.forward(img)[0]\n",
    "rec_img = rec_img.view(64, 64, 3)\n",
    "rec_img = rec_img.detach().numpy()\n",
    "plt.imshow(rec_img)"
   ]
  },
  {
   "cell_type": "code",
   "execution_count": 53,
   "metadata": {},
   "outputs": [],
   "source": [
    "# model3000 = model"
   ]
  }
 ],
 "metadata": {
  "kernelspec": {
   "display_name": "NN",
   "language": "python",
   "name": "python3"
  },
  "language_info": {
   "codemirror_mode": {
    "name": "ipython",
    "version": 3
   },
   "file_extension": ".py",
   "mimetype": "text/x-python",
   "name": "python",
   "nbconvert_exporter": "python",
   "pygments_lexer": "ipython3",
   "version": "3.11.4"
  }
 },
 "nbformat": 4,
 "nbformat_minor": 2
}
