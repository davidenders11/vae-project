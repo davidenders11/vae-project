{
 "cells": [
  {
   "cell_type": "code",
   "execution_count": 11,
   "metadata": {},
   "outputs": [],
   "source": [
    "import torch\n",
    "import torch.nn as nn\n",
    "import os\n",
    "from encoder import Encoder\n",
    "from decoder import Decoder\n",
    "import matplotlib.image as img"
   ]
  },
  {
   "cell_type": "code",
   "execution_count": null,
   "metadata": {},
   "outputs": [],
   "source": [
    "cats = []\n",
    "directory = \"data/cats\"\n",
    "for catpic in os.listdir(directory):\n",
    "    im = img.imread(os.path.join(directory, catpic))\n",
    "    # entirely unsure if the reshape is correct\n",
    "    cats.append(torch.tensor(im).float().reshape(im.shape[0], -1))\n",
    "print(cats)"
   ]
  },
  {
   "cell_type": "code",
   "execution_count": null,
   "metadata": {},
   "outputs": [],
   "source": [
    "class VariationalAutoEncoder:\n",
    "    # why is in_dim 4096? shouldn't it be 12288?\n",
    "    def __init__(\n",
    "        self, in_dim=4096, hidden_dims=[32, 64, 128, 256, 512], latent_dim=256\n",
    "    ):\n",
    "        self.encoder = Encoder(in_dim, hidden_dims, latent_dim)\n",
    "        self.decoder = Decoder(latent_dim, hidden_dims)"
   ]
  }
 ],
 "metadata": {
  "kernelspec": {
   "display_name": "NN",
   "language": "python",
   "name": "python3"
  },
  "language_info": {
   "codemirror_mode": {
    "name": "ipython",
    "version": 3
   },
   "file_extension": ".py",
   "mimetype": "text/x-python",
   "name": "python",
   "nbconvert_exporter": "python",
   "pygments_lexer": "ipython3",
   "version": "3.11.5"
  }
 },
 "nbformat": 4,
 "nbformat_minor": 2
}
