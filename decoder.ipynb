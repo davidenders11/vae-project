{
 "cells": [
  {
   "cell_type": "code",
   "execution_count": null,
   "metadata": {},
   "outputs": [],
   "source": [
    "import torch\n",
    "import torch.nn as nn"
   ]
  },
  {
   "cell_type": "code",
   "execution_count": null,
   "metadata": {},
   "outputs": [],
   "source": [
    "class Decoder(nn.Module):\n",
    "\n",
    "    def __init__(self, encoder_vector, out_width_height = 64, out_depth = 3, hidden_dims=[32, 64, 128, 256, 512], latent_dim=256) -> None:\n",
    "        super().__init__()\n",
    "\n",
    "        # First we must make the network to upsample from our encoding using nn.ConvTranspose2D\n",
    "\n",
    "        # Then we must make a function to sample from our encoder vector\n",
    "\n",
    "        # The forward function must then reparamterize (sample) from the encoded vector passed in and then pass those values into the upsampling network \n",
    "\n"
   ]
  }
 ],
 "metadata": {
  "language_info": {
   "name": "python"
  }
 },
 "nbformat": 4,
 "nbformat_minor": 2
}
